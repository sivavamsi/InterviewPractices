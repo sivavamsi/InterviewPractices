{
 "cells": [
  {
   "cell_type": "markdown",
   "id": "47fb9eae",
   "metadata": {},
   "source": [
    "# Counter"
   ]
  },
  {
   "cell_type": "code",
   "execution_count": 15,
   "id": "fb16070e",
   "metadata": {},
   "outputs": [
    {
     "data": {
      "text/plain": [
       "11"
      ]
     },
     "execution_count": 15,
     "metadata": {},
     "output_type": "execute_result"
    }
   ],
   "source": [
    "from collections import Counter\n",
    "l = [1,2,3,1,2,1,2,1,2,4,\"6\"]\n",
    "Counter(l).total()"
   ]
  },
  {
   "cell_type": "code",
   "execution_count": 16,
   "id": "ea1a808c",
   "metadata": {},
   "outputs": [
    {
     "data": {
      "text/plain": [
       "Counter({1: 4, 2: 4, 3: 1, 4: 1, '6': 1})"
      ]
     },
     "execution_count": 16,
     "metadata": {},
     "output_type": "execute_result"
    }
   ],
   "source": [
    "Counter(l)"
   ]
  },
  {
   "cell_type": "code",
   "execution_count": 17,
   "id": "8bc88d3b",
   "metadata": {},
   "outputs": [
    {
     "data": {
      "text/plain": [
       "{1: 4, 2: 4, 3: 1, 4: 1, '6': 1}"
      ]
     },
     "execution_count": 17,
     "metadata": {},
     "output_type": "execute_result"
    }
   ],
   "source": [
    "dict(Counter(l))"
   ]
  },
  {
   "cell_type": "code",
   "execution_count": 18,
   "id": "fa2838dc",
   "metadata": {},
   "outputs": [
    {
     "data": {
      "text/plain": [
       "Counter({'b': 6, 'A': 3})"
      ]
     },
     "execution_count": 18,
     "metadata": {},
     "output_type": "execute_result"
    }
   ],
   "source": [
    "from collections import Counter\n",
    "Counter(A=3,b=6) # it doesn't support num as keys for this definationly"
   ]
  },
  {
   "cell_type": "markdown",
   "id": "d4a0b360",
   "metadata": {},
   "source": [
    "# OrderDict"
   ]
  },
  {
   "cell_type": "code",
   "execution_count": 21,
   "id": "84775fd1",
   "metadata": {},
   "outputs": [],
   "source": [
    "from collections import OrderedDict\n",
    "od = OrderedDict() # it rembered the orders in dictionary"
   ]
  },
  {
   "cell_type": "code",
   "execution_count": 22,
   "id": "7848007f",
   "metadata": {},
   "outputs": [],
   "source": [
    "od[0]=1\n",
    "od[1]=2"
   ]
  },
  {
   "cell_type": "code",
   "execution_count": 23,
   "id": "066cfb66",
   "metadata": {},
   "outputs": [
    {
     "data": {
      "text/plain": [
       "OrderedDict([(0, 1), (1, 2)])"
      ]
     },
     "execution_count": 23,
     "metadata": {},
     "output_type": "execute_result"
    }
   ],
   "source": [
    "od"
   ]
  },
  {
   "cell_type": "code",
   "execution_count": 25,
   "id": "ef4ff36b",
   "metadata": {},
   "outputs": [
    {
     "data": {
      "text/plain": [
       "1"
      ]
     },
     "execution_count": 25,
     "metadata": {},
     "output_type": "execute_result"
    }
   ],
   "source": [
    "od.pop(0)"
   ]
  },
  {
   "cell_type": "code",
   "execution_count": 26,
   "id": "c61b5246",
   "metadata": {},
   "outputs": [
    {
     "data": {
      "text/plain": [
       "OrderedDict([(1, 2)])"
      ]
     },
     "execution_count": 26,
     "metadata": {},
     "output_type": "execute_result"
    }
   ],
   "source": [
    "od"
   ]
  },
  {
   "cell_type": "code",
   "execution_count": 27,
   "id": "2b50984f",
   "metadata": {},
   "outputs": [],
   "source": [
    "od[1]=3"
   ]
  },
  {
   "cell_type": "code",
   "execution_count": 28,
   "id": "3e472fa7",
   "metadata": {},
   "outputs": [
    {
     "data": {
      "text/plain": [
       "OrderedDict([(1, 3)])"
      ]
     },
     "execution_count": 28,
     "metadata": {},
     "output_type": "execute_result"
    }
   ],
   "source": [
    "od"
   ]
  },
  {
   "cell_type": "code",
   "execution_count": 29,
   "id": "fe3ece4f",
   "metadata": {},
   "outputs": [],
   "source": [
    "od[2]=3"
   ]
  },
  {
   "cell_type": "code",
   "execution_count": 30,
   "id": "966a007c",
   "metadata": {},
   "outputs": [
    {
     "data": {
      "text/plain": [
       "OrderedDict([(1, 3), (2, 3)])"
      ]
     },
     "execution_count": 30,
     "metadata": {},
     "output_type": "execute_result"
    }
   ],
   "source": [
    "od"
   ]
  },
  {
   "cell_type": "markdown",
   "id": "c99a1bfe",
   "metadata": {},
   "source": [
    "# defaultdict"
   ]
  },
  {
   "cell_type": "code",
   "execution_count": 31,
   "id": "3e3aa7b5",
   "metadata": {},
   "outputs": [],
   "source": [
    "from collections import defaultdict"
   ]
  },
  {
   "cell_type": "code",
   "execution_count": 32,
   "id": "89600290",
   "metadata": {},
   "outputs": [],
   "source": [
    "d = defaultdict(int) # you can define but observe the \\sample & wont raise the error"
   ]
  },
  {
   "cell_type": "code",
   "execution_count": 33,
   "id": "2f98bf97",
   "metadata": {},
   "outputs": [
    {
     "data": {
      "text/plain": [
       "defaultdict(int, {0: 0, 1: 2, 2: 4, 3: 6, 4: 8})"
      ]
     },
     "execution_count": 33,
     "metadata": {},
     "output_type": "execute_result"
    }
   ],
   "source": [
    "for i in [*range(5)]:\n",
    "    d[i]=i*2\n",
    "d"
   ]
  },
  {
   "cell_type": "code",
   "execution_count": 34,
   "id": "ee2f62b7",
   "metadata": {},
   "outputs": [
    {
     "data": {
      "text/plain": [
       "defaultdict(int, {0: [0], 1: [2], 2: [4], 3: [6], 4: [8]})"
      ]
     },
     "execution_count": 34,
     "metadata": {},
     "output_type": "execute_result"
    }
   ],
   "source": [
    "for i in [*range(5)]:\n",
    "    d[i]=[i*2]\n",
    "d"
   ]
  },
  {
   "cell_type": "code",
   "execution_count": 37,
   "id": "7cc1788f",
   "metadata": {},
   "outputs": [],
   "source": [
    "d.setdefault(list)"
   ]
  },
  {
   "cell_type": "code",
   "execution_count": 38,
   "id": "eb120d7e",
   "metadata": {},
   "outputs": [
    {
     "data": {
      "text/plain": [
       "defaultdict(int,\n",
       "            {0: [0], 1: [2], 2: [4], 3: [6], 4: [8], int: None, list: None})"
      ]
     },
     "execution_count": 38,
     "metadata": {},
     "output_type": "execute_result"
    }
   ],
   "source": [
    "d"
   ]
  },
  {
   "cell_type": "markdown",
   "id": "63fe3851",
   "metadata": {},
   "source": [
    "# ChainMap"
   ]
  },
  {
   "cell_type": "code",
   "execution_count": 39,
   "id": "7361b30f",
   "metadata": {},
   "outputs": [],
   "source": [
    "from collections import ChainMap # many to single & access key"
   ]
  },
  {
   "cell_type": "code",
   "execution_count": 46,
   "id": "4d0395c6",
   "metadata": {},
   "outputs": [],
   "source": [
    "d1 = {1:3,\"k\":\"d\",3:4}\n",
    "d2 = {5:3,\"k\":\"f\",3:5}\n",
    "d3 = {5:3,\"k\":\"k\",6:4}"
   ]
  },
  {
   "cell_type": "code",
   "execution_count": 47,
   "id": "af3ad9fe",
   "metadata": {},
   "outputs": [],
   "source": [
    "c = ChainMap(d1,d2,d3)"
   ]
  },
  {
   "cell_type": "code",
   "execution_count": 48,
   "id": "84a4a6aa",
   "metadata": {},
   "outputs": [
    {
     "data": {
      "text/plain": [
       "ChainMap({1: 3, 'fg': 3}, {1: 3, 'k': 'd', 3: 4}, {5: 3, 'k': 'f', 3: 5}, {5: 3, 'k': 'k', 6: 4})"
      ]
     },
     "execution_count": 48,
     "metadata": {},
     "output_type": "execute_result"
    }
   ],
   "source": [
    "c.new_child({1:3,\"fg\":3})"
   ]
  },
  {
   "cell_type": "code",
   "execution_count": 49,
   "id": "995e4430",
   "metadata": {},
   "outputs": [
    {
     "data": {
      "text/plain": [
       "4"
      ]
     },
     "execution_count": 49,
     "metadata": {},
     "output_type": "execute_result"
    }
   ],
   "source": [
    "c[3]"
   ]
  },
  {
   "cell_type": "code",
   "execution_count": 50,
   "id": "ca448ed3",
   "metadata": {},
   "outputs": [
    {
     "data": {
      "text/plain": [
       "4"
      ]
     },
     "execution_count": 50,
     "metadata": {},
     "output_type": "execute_result"
    }
   ],
   "source": [
    "c[6]"
   ]
  },
  {
   "cell_type": "markdown",
   "id": "b5ac9190",
   "metadata": {},
   "source": [
    "# namedtuple"
   ]
  },
  {
   "cell_type": "code",
   "execution_count": 52,
   "id": "d91cd47e",
   "metadata": {},
   "outputs": [],
   "source": [
    "from collections import namedtuple\n"
   ]
  },
  {
   "cell_type": "code",
   "execution_count": 53,
   "id": "16903f4d",
   "metadata": {},
   "outputs": [],
   "source": [
    "Student = namedtuple(\"Student\",[\"name\",\"age\",\"depart\"])"
   ]
  },
  {
   "cell_type": "code",
   "execution_count": 56,
   "id": "960aa647",
   "metadata": {},
   "outputs": [
    {
     "data": {
      "text/plain": [
       "__main__.Student"
      ]
     },
     "execution_count": 56,
     "metadata": {},
     "output_type": "execute_result"
    }
   ],
   "source": [
    "Student"
   ]
  },
  {
   "cell_type": "code",
   "execution_count": 57,
   "id": "ea3e8a73",
   "metadata": {},
   "outputs": [],
   "source": [
    "s = Student('vamsi',23,\"cse\")"
   ]
  },
  {
   "cell_type": "code",
   "execution_count": 58,
   "id": "4f8ad688",
   "metadata": {},
   "outputs": [
    {
     "data": {
      "text/plain": [
       "Student(name='vamsi', age=23, depart='cse')"
      ]
     },
     "execution_count": 58,
     "metadata": {},
     "output_type": "execute_result"
    }
   ],
   "source": [
    "s"
   ]
  },
  {
   "cell_type": "code",
   "execution_count": 59,
   "id": "d0741b89",
   "metadata": {},
   "outputs": [
    {
     "data": {
      "text/plain": [
       "23"
      ]
     },
     "execution_count": 59,
     "metadata": {},
     "output_type": "execute_result"
    }
   ],
   "source": [
    "s.age"
   ]
  },
  {
   "cell_type": "code",
   "execution_count": 60,
   "id": "9d4b2614",
   "metadata": {},
   "outputs": [
    {
     "data": {
      "text/plain": [
       "'vamsi'"
      ]
     },
     "execution_count": 60,
     "metadata": {},
     "output_type": "execute_result"
    }
   ],
   "source": [
    "s[0]"
   ]
  },
  {
   "cell_type": "code",
   "execution_count": 62,
   "id": "0ae07287",
   "metadata": {},
   "outputs": [
    {
     "data": {
      "text/plain": [
       "'cse'"
      ]
     },
     "execution_count": 62,
     "metadata": {},
     "output_type": "execute_result"
    }
   ],
   "source": [
    "s[2]"
   ]
  },
  {
   "cell_type": "code",
   "execution_count": 63,
   "id": "f7aa7919",
   "metadata": {},
   "outputs": [
    {
     "data": {
      "text/plain": [
       "Student(name='sai', age=23, depart='ece')"
      ]
     },
     "execution_count": 63,
     "metadata": {},
     "output_type": "execute_result"
    }
   ],
   "source": [
    "rec = ['sai',23,'ece']\n",
    "Student._make(rec)"
   ]
  },
  {
   "cell_type": "code",
   "execution_count": 65,
   "id": "ad1476aa",
   "metadata": {},
   "outputs": [
    {
     "data": {
      "text/plain": [
       "_tuplegetter(1, 'Alias for field number 1')"
      ]
     },
     "execution_count": 65,
     "metadata": {},
     "output_type": "execute_result"
    }
   ],
   "source": [
    "Student.age"
   ]
  },
  {
   "cell_type": "code",
   "execution_count": 67,
   "id": "c475d0cb",
   "metadata": {},
   "outputs": [
    {
     "data": {
      "text/plain": [
       "{'name': 'vamsi', 'age': 23, 'depart': 'cse'}"
      ]
     },
     "execution_count": 67,
     "metadata": {},
     "output_type": "execute_result"
    }
   ],
   "source": [
    "s._asdict()"
   ]
  },
  {
   "cell_type": "markdown",
   "id": "8e260b3b",
   "metadata": {},
   "source": [
    "# deque"
   ]
  },
  {
   "cell_type": "code",
   "execution_count": 68,
   "id": "d5c9a436",
   "metadata": {},
   "outputs": [],
   "source": [
    "from collections import deque"
   ]
  },
  {
   "cell_type": "code",
   "execution_count": 69,
   "id": "12391008",
   "metadata": {},
   "outputs": [],
   "source": [
    "d = deque([1,2,3])"
   ]
  },
  {
   "cell_type": "code",
   "execution_count": 70,
   "id": "b9105d5f",
   "metadata": {},
   "outputs": [
    {
     "data": {
      "text/plain": [
       "deque([1, 2, 3])"
      ]
     },
     "execution_count": 70,
     "metadata": {},
     "output_type": "execute_result"
    }
   ],
   "source": [
    "d"
   ]
  },
  {
   "cell_type": "code",
   "execution_count": 71,
   "id": "e8424441",
   "metadata": {},
   "outputs": [],
   "source": [
    "d.append(19)"
   ]
  },
  {
   "cell_type": "code",
   "execution_count": 72,
   "id": "34bd7520",
   "metadata": {},
   "outputs": [
    {
     "data": {
      "text/plain": [
       "deque([1, 2, 3, 19])"
      ]
     },
     "execution_count": 72,
     "metadata": {},
     "output_type": "execute_result"
    }
   ],
   "source": [
    "d"
   ]
  },
  {
   "cell_type": "code",
   "execution_count": 73,
   "id": "f9034798",
   "metadata": {},
   "outputs": [],
   "source": [
    "d.appendleft(0)"
   ]
  },
  {
   "cell_type": "code",
   "execution_count": 74,
   "id": "5df6f653",
   "metadata": {},
   "outputs": [
    {
     "data": {
      "text/plain": [
       "deque([0, 1, 2, 3, 19])"
      ]
     },
     "execution_count": 74,
     "metadata": {},
     "output_type": "execute_result"
    }
   ],
   "source": [
    "d"
   ]
  },
  {
   "cell_type": "code",
   "execution_count": 75,
   "id": "e8b8d505",
   "metadata": {},
   "outputs": [
    {
     "data": {
      "text/plain": [
       "19"
      ]
     },
     "execution_count": 75,
     "metadata": {},
     "output_type": "execute_result"
    }
   ],
   "source": [
    "d.pop()"
   ]
  },
  {
   "cell_type": "code",
   "execution_count": 76,
   "id": "8a0419b8",
   "metadata": {},
   "outputs": [
    {
     "data": {
      "text/plain": [
       "deque([0, 1, 2, 3])"
      ]
     },
     "execution_count": 76,
     "metadata": {},
     "output_type": "execute_result"
    }
   ],
   "source": [
    "d"
   ]
  },
  {
   "cell_type": "code",
   "execution_count": 77,
   "id": "9a5f7fbc",
   "metadata": {},
   "outputs": [
    {
     "data": {
      "text/plain": [
       "0"
      ]
     },
     "execution_count": 77,
     "metadata": {},
     "output_type": "execute_result"
    }
   ],
   "source": [
    "d.popleft()"
   ]
  },
  {
   "cell_type": "code",
   "execution_count": 78,
   "id": "70fbcd56",
   "metadata": {},
   "outputs": [
    {
     "data": {
      "text/plain": [
       "deque([1, 2, 3])"
      ]
     },
     "execution_count": 78,
     "metadata": {},
     "output_type": "execute_result"
    }
   ],
   "source": [
    "d"
   ]
  },
  {
   "cell_type": "code",
   "execution_count": 79,
   "id": "b96eb58b",
   "metadata": {},
   "outputs": [],
   "source": [
    "d.extend([1,2,3])"
   ]
  },
  {
   "cell_type": "code",
   "execution_count": 80,
   "id": "aa44a3dd",
   "metadata": {},
   "outputs": [
    {
     "data": {
      "text/plain": [
       "deque([1, 2, 3, 1, 2, 3])"
      ]
     },
     "execution_count": 80,
     "metadata": {},
     "output_type": "execute_result"
    }
   ],
   "source": [
    "d"
   ]
  },
  {
   "cell_type": "code",
   "execution_count": 81,
   "id": "10bdd123",
   "metadata": {},
   "outputs": [],
   "source": [
    "# same as all list operations"
   ]
  },
  {
   "cell_type": "markdown",
   "id": "2167d938",
   "metadata": {},
   "source": [
    "# UserDict"
   ]
  },
  {
   "cell_type": "code",
   "execution_count": 82,
   "id": "bf26ff5b",
   "metadata": {},
   "outputs": [],
   "source": [
    "from collections import UserDict"
   ]
  },
  {
   "cell_type": "code",
   "execution_count": 83,
   "id": "b54cede0",
   "metadata": {},
   "outputs": [],
   "source": [
    "class MyDict(UserDict):\n",
    "    def pop(self,s=None):\n",
    "        raise RuntimeError(\"pop is not allowed\")\n",
    "    def __del__(self,s=None):\n",
    "        raise RuntimeError(\"deletion not allowed\")"
   ]
  },
  {
   "cell_type": "code",
   "execution_count": 84,
   "id": "4c2b8ccc",
   "metadata": {},
   "outputs": [],
   "source": [
    "d = MyDict({\"1\":3,\"d\":\"k\"})"
   ]
  },
  {
   "cell_type": "code",
   "execution_count": 85,
   "id": "b83cd9ce",
   "metadata": {},
   "outputs": [
    {
     "data": {
      "text/plain": [
       "{'1': 3, 'd': 'k'}"
      ]
     },
     "execution_count": 85,
     "metadata": {},
     "output_type": "execute_result"
    }
   ],
   "source": [
    "d"
   ]
  },
  {
   "cell_type": "code",
   "execution_count": 87,
   "id": "fd27920b",
   "metadata": {},
   "outputs": [
    {
     "ename": "RuntimeError",
     "evalue": "deletion not allowed",
     "output_type": "error",
     "traceback": [
      "\u001b[0;31m---------------------------------------------------------------------------\u001b[0m",
      "\u001b[0;31mRuntimeError\u001b[0m                              Traceback (most recent call last)",
      "Cell \u001b[0;32mIn[87], line 1\u001b[0m\n\u001b[0;32m----> 1\u001b[0m d\u001b[38;5;241m.\u001b[39m\u001b[38;5;21m__del__\u001b[39m()\n",
      "Cell \u001b[0;32mIn[83], line 5\u001b[0m, in \u001b[0;36mMyDict.__del__\u001b[0;34m(self, s)\u001b[0m\n\u001b[1;32m      4\u001b[0m \u001b[38;5;28;01mdef\u001b[39;00m \u001b[38;5;21m__del__\u001b[39m(\u001b[38;5;28mself\u001b[39m,s\u001b[38;5;241m=\u001b[39m\u001b[38;5;28;01mNone\u001b[39;00m):\n\u001b[0;32m----> 5\u001b[0m     \u001b[38;5;28;01mraise\u001b[39;00m \u001b[38;5;167;01mRuntimeError\u001b[39;00m(\u001b[38;5;124m\"\u001b[39m\u001b[38;5;124mdeletion not allowed\u001b[39m\u001b[38;5;124m\"\u001b[39m)\n",
      "\u001b[0;31mRuntimeError\u001b[0m: deletion not allowed"
     ]
    }
   ],
   "source": [
    "d.__del__()"
   ]
  },
  {
   "cell_type": "code",
   "execution_count": 88,
   "id": "fecf0186",
   "metadata": {},
   "outputs": [
    {
     "ename": "RuntimeError",
     "evalue": "pop is not allowed",
     "output_type": "error",
     "traceback": [
      "\u001b[0;31m---------------------------------------------------------------------------\u001b[0m",
      "\u001b[0;31mRuntimeError\u001b[0m                              Traceback (most recent call last)",
      "Cell \u001b[0;32mIn[88], line 1\u001b[0m\n\u001b[0;32m----> 1\u001b[0m d\u001b[38;5;241m.\u001b[39mpop(\u001b[38;5;124m\"\u001b[39m\u001b[38;5;124m1\u001b[39m\u001b[38;5;124m\"\u001b[39m)\n",
      "Cell \u001b[0;32mIn[83], line 3\u001b[0m, in \u001b[0;36mMyDict.pop\u001b[0;34m(self, s)\u001b[0m\n\u001b[1;32m      2\u001b[0m \u001b[38;5;28;01mdef\u001b[39;00m \u001b[38;5;21mpop\u001b[39m(\u001b[38;5;28mself\u001b[39m,s\u001b[38;5;241m=\u001b[39m\u001b[38;5;28;01mNone\u001b[39;00m):\n\u001b[0;32m----> 3\u001b[0m     \u001b[38;5;28;01mraise\u001b[39;00m \u001b[38;5;167;01mRuntimeError\u001b[39;00m(\u001b[38;5;124m\"\u001b[39m\u001b[38;5;124mpop is not allowed\u001b[39m\u001b[38;5;124m\"\u001b[39m)\n",
      "\u001b[0;31mRuntimeError\u001b[0m: pop is not allowed"
     ]
    }
   ],
   "source": [
    "d.pop(\"1\")"
   ]
  },
  {
   "cell_type": "markdown",
   "id": "8a382ee0",
   "metadata": {},
   "source": [
    "# UserList"
   ]
  },
  {
   "cell_type": "code",
   "execution_count": 89,
   "id": "f5df873c",
   "metadata": {},
   "outputs": [],
   "source": [
    "from collections import UserList"
   ]
  },
  {
   "cell_type": "code",
   "execution_count": 91,
   "id": "f50ac59a",
   "metadata": {},
   "outputs": [],
   "source": [
    "class MyList(UserList):\n",
    "    def remove(self,s=None):\n",
    "        raise RuntimeError(\"remove not allowed\")"
   ]
  },
  {
   "cell_type": "code",
   "execution_count": 92,
   "id": "e3815a0a",
   "metadata": {},
   "outputs": [],
   "source": [
    "l = MyList([1,2])"
   ]
  },
  {
   "cell_type": "code",
   "execution_count": 93,
   "id": "c396623b",
   "metadata": {},
   "outputs": [
    {
     "ename": "RuntimeError",
     "evalue": "remove not allowed",
     "output_type": "error",
     "traceback": [
      "\u001b[0;31m---------------------------------------------------------------------------\u001b[0m",
      "\u001b[0;31mRuntimeError\u001b[0m                              Traceback (most recent call last)",
      "Cell \u001b[0;32mIn[93], line 1\u001b[0m\n\u001b[0;32m----> 1\u001b[0m l\u001b[38;5;241m.\u001b[39mremove(\u001b[38;5;241m1\u001b[39m)\n",
      "Cell \u001b[0;32mIn[91], line 3\u001b[0m, in \u001b[0;36mMyList.remove\u001b[0;34m(self, s)\u001b[0m\n\u001b[1;32m      2\u001b[0m \u001b[38;5;28;01mdef\u001b[39;00m \u001b[38;5;21mremove\u001b[39m(\u001b[38;5;28mself\u001b[39m,s\u001b[38;5;241m=\u001b[39m\u001b[38;5;28;01mNone\u001b[39;00m):\n\u001b[0;32m----> 3\u001b[0m     \u001b[38;5;28;01mraise\u001b[39;00m \u001b[38;5;167;01mRuntimeError\u001b[39;00m(\u001b[38;5;124m\"\u001b[39m\u001b[38;5;124mremove not allowed\u001b[39m\u001b[38;5;124m\"\u001b[39m)\n",
      "\u001b[0;31mRuntimeError\u001b[0m: remove not allowed"
     ]
    }
   ],
   "source": [
    "l.remove(1)"
   ]
  },
  {
   "cell_type": "markdown",
   "id": "181e329b",
   "metadata": {},
   "source": [
    "# UserString"
   ]
  },
  {
   "cell_type": "code",
   "execution_count": 94,
   "id": "29686fa1",
   "metadata": {},
   "outputs": [],
   "source": [
    "from collections import UserString"
   ]
  },
  {
   "cell_type": "code",
   "execution_count": 95,
   "id": "ae2c4c67",
   "metadata": {},
   "outputs": [],
   "source": [
    "class MyStr(UserString):\n",
    "    def remove(self,s):\n",
    "        self.data = self.data.replace(s,'')"
   ]
  },
  {
   "cell_type": "code",
   "execution_count": 96,
   "id": "abd7c0de",
   "metadata": {},
   "outputs": [],
   "source": [
    "s = MyStr(\"vamsi\")"
   ]
  },
  {
   "cell_type": "code",
   "execution_count": 97,
   "id": "30e5aa1b",
   "metadata": {},
   "outputs": [
    {
     "data": {
      "text/plain": [
       "'vamsi'"
      ]
     },
     "execution_count": 97,
     "metadata": {},
     "output_type": "execute_result"
    }
   ],
   "source": [
    "s"
   ]
  },
  {
   "cell_type": "code",
   "execution_count": 98,
   "id": "7e5b336a",
   "metadata": {},
   "outputs": [
    {
     "data": {
      "text/plain": [
       "__main__.MyStr"
      ]
     },
     "execution_count": 98,
     "metadata": {},
     "output_type": "execute_result"
    }
   ],
   "source": [
    "type(s)"
   ]
  },
  {
   "cell_type": "code",
   "execution_count": 100,
   "id": "4ff39552",
   "metadata": {},
   "outputs": [],
   "source": [
    "s.remove('i')"
   ]
  },
  {
   "cell_type": "code",
   "execution_count": 101,
   "id": "04ed90ce",
   "metadata": {},
   "outputs": [
    {
     "data": {
      "text/plain": [
       "'vams'"
      ]
     },
     "execution_count": 101,
     "metadata": {},
     "output_type": "execute_result"
    }
   ],
   "source": [
    "s"
   ]
  },
  {
   "cell_type": "markdown",
   "id": "eb6efa7c",
   "metadata": {},
   "source": [
    "# LIST Compreshensions"
   ]
  },
  {
   "cell_type": "code",
   "execution_count": 108,
   "id": "85814662",
   "metadata": {},
   "outputs": [
    {
     "data": {
      "text/plain": [
       "[10, 12, 14, 16, 18, 20, 22]"
      ]
     },
     "execution_count": 108,
     "metadata": {},
     "output_type": "execute_result"
    }
   ],
   "source": [
    "[*range(10,23,2)]"
   ]
  },
  {
   "cell_type": "code",
   "execution_count": 112,
   "id": "b727a39a",
   "metadata": {},
   "outputs": [
    {
     "data": {
      "text/plain": [
       "[(0, 4), (0, 5), (0, 6), (0, 7), (0, 8), (0, 9)]"
      ]
     },
     "execution_count": 112,
     "metadata": {},
     "output_type": "execute_result"
    }
   ],
   "source": [
    "[ (i*0,i) for i in [*range(10)] if i>3 ]"
   ]
  },
  {
   "cell_type": "code",
   "execution_count": 113,
   "id": "da38cf9b",
   "metadata": {},
   "outputs": [
    {
     "data": {
      "text/plain": [
       "[(0, 0),\n",
       " (1, 1),\n",
       " (4, 2),\n",
       " (9, 3),\n",
       " (0, 4),\n",
       " (0, 5),\n",
       " (0, 6),\n",
       " (0, 7),\n",
       " (0, 8),\n",
       " (0, 9)]"
      ]
     },
     "execution_count": 113,
     "metadata": {},
     "output_type": "execute_result"
    }
   ],
   "source": [
    "[(i*0,i) if i>3 else (i*i,i) for i in [*range(10)]]"
   ]
  },
  {
   "cell_type": "markdown",
   "id": "17369979",
   "metadata": {},
   "source": [
    "# Dictionary Comphrensions"
   ]
  },
  {
   "cell_type": "code",
   "execution_count": 117,
   "id": "0ab13371",
   "metadata": {},
   "outputs": [
    {
     "data": {
      "text/plain": [
       "{1: 'aaaaaaaaaa', 2: 'v', 3: 'c'}"
      ]
     },
     "execution_count": 117,
     "metadata": {},
     "output_type": "execute_result"
    }
   ],
   "source": [
    "{i:j*10 if i==1 else j for i,j in zip([1,2,3],['a','v','c']) }"
   ]
  },
  {
   "cell_type": "code",
   "execution_count": null,
   "id": "8a543441",
   "metadata": {},
   "outputs": [],
   "source": []
  }
 ],
 "metadata": {
  "kernelspec": {
   "display_name": "Python 3 (ipykernel)",
   "language": "python",
   "name": "python3"
  },
  "language_info": {
   "codemirror_mode": {
    "name": "ipython",
    "version": 3
   },
   "file_extension": ".py",
   "mimetype": "text/x-python",
   "name": "python",
   "nbconvert_exporter": "python",
   "pygments_lexer": "ipython3",
   "version": "3.11.5"
  }
 },
 "nbformat": 4,
 "nbformat_minor": 5
}
