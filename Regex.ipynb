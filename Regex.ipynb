{
 "cells": [
  {
   "cell_type": "markdown",
   "id": "0733e385",
   "metadata": {},
   "source": [
    "# search"
   ]
  },
  {
   "cell_type": "code",
   "execution_count": 13,
   "id": "77db850e",
   "metadata": {},
   "outputs": [],
   "source": [
    "import re"
   ]
  },
  {
   "cell_type": "code",
   "execution_count": 54,
   "id": "684158e0",
   "metadata": {},
   "outputs": [],
   "source": [
    "s = \"Hello.world World\""
   ]
  },
  {
   "cell_type": "code",
   "execution_count": 55,
   "id": "f512fb48",
   "metadata": {},
   "outputs": [],
   "source": [
    "match = re.search(r'world',s)"
   ]
  },
  {
   "cell_type": "code",
   "execution_count": 56,
   "id": "a4731578",
   "metadata": {},
   "outputs": [
    {
     "name": "stdout",
     "output_type": "stream",
     "text": [
      "6 11\n"
     ]
    }
   ],
   "source": [
    "print(match.start(), match.end()) # first occurance"
   ]
  },
  {
   "cell_type": "code",
   "execution_count": 57,
   "id": "d4ff56e3",
   "metadata": {},
   "outputs": [
    {
     "data": {
      "text/plain": [
       "17"
      ]
     },
     "execution_count": 57,
     "metadata": {},
     "output_type": "execute_result"
    }
   ],
   "source": [
    "len(s)"
   ]
  },
  {
   "cell_type": "code",
   "execution_count": 58,
   "id": "2d5debcd",
   "metadata": {},
   "outputs": [
    {
     "data": {
      "text/plain": [
       "<re.Match object; span=(6, 11), match='world'>"
      ]
     },
     "execution_count": 58,
     "metadata": {},
     "output_type": "execute_result"
    }
   ],
   "source": [
    "match"
   ]
  },
  {
   "cell_type": "code",
   "execution_count": 61,
   "id": "9ec0f332",
   "metadata": {},
   "outputs": [
    {
     "data": {
      "text/plain": [
       "<re.Match object; span=(5, 6), match='.'>"
      ]
     },
     "execution_count": 61,
     "metadata": {},
     "output_type": "execute_result"
    }
   ],
   "source": [
    "re.search(r'\\.',s) # use escape charater for for special character listed in pattern"
   ]
  },
  {
   "cell_type": "code",
   "execution_count": 62,
   "id": "c4e6ac82",
   "metadata": {
    "scrolled": true
   },
   "outputs": [
    {
     "data": {
      "text/plain": [
       "<re.Match object; span=(0, 1), match='H'>"
      ]
     },
     "execution_count": 62,
     "metadata": {},
     "output_type": "execute_result"
    }
   ],
   "source": [
    "re.search(r'.',s)"
   ]
  },
  {
   "cell_type": "code",
   "execution_count": 63,
   "id": "33204d03",
   "metadata": {},
   "outputs": [
    {
     "data": {
      "text/plain": [
       "<re.Match object; span=(0, 7), match='Hello.w'>"
      ]
     },
     "execution_count": 63,
     "metadata": {},
     "output_type": "execute_result"
    }
   ],
   "source": [
    "re.search(r'Hello.w',s) # except new line, anyin between charchacter a.b --> abb,acb,adb"
   ]
  },
  {
   "cell_type": "code",
   "execution_count": null,
   "id": "fea46026",
   "metadata": {},
   "outputs": [],
   "source": []
  },
  {
   "cell_type": "markdown",
   "id": "5bb63b54",
   "metadata": {},
   "source": [
    "# findall"
   ]
  },
  {
   "cell_type": "code",
   "execution_count": 42,
   "id": "07256f80",
   "metadata": {},
   "outputs": [],
   "source": [
    "s = \"The quick brown fox jumps The over4 the lazy dog, 1234\""
   ]
  },
  {
   "cell_type": "code",
   "execution_count": 43,
   "id": "abaeb73c",
   "metadata": {},
   "outputs": [
    {
     "name": "stdout",
     "output_type": "stream",
     "text": [
      "['h', 'e', 'i', 'c', 'k', 'b', 'f', 'j', 'm', 'h', 'e', 'e', 'h', 'e', 'l', 'a', 'd', 'g']\n"
     ]
    }
   ],
   "source": [
    "print(re.findall('[a-m]',s)) #a,b,c d,.....m"
   ]
  },
  {
   "cell_type": "code",
   "execution_count": 44,
   "id": "41fd9462",
   "metadata": {},
   "outputs": [
    {
     "name": "stdout",
     "output_type": "stream",
     "text": [
      "['T', ' ', 'q', 'u', ' ', 'r', 'o', 'w', 'n', ' ', 'o', 'x', ' ', 'u', 'p', 's', ' ', 'T', ' ', 'o', 'v', 'r', '4', ' ', 't', ' ', 'z', 'y', ' ', 'o', ',', ' ', '1', '2', '3', '4']\n"
     ]
    }
   ],
   "source": [
    "print(re.fin\n",
    "      dall('[^a-m]',s)) # not ^"
   ]
  },
  {
   "cell_type": "code",
   "execution_count": 45,
   "id": "c703b4eb",
   "metadata": {},
   "outputs": [
    {
     "name": "stdout",
     "output_type": "stream",
     "text": [
      "['1', '2', '3']\n"
     ]
    }
   ],
   "source": [
    "print(re.findall('[1-3]',s))"
   ]
  },
  {
   "cell_type": "code",
   "execution_count": 46,
   "id": "de74cde2",
   "metadata": {},
   "outputs": [
    {
     "name": "stdout",
     "output_type": "stream",
     "text": [
      "['T', 'T']\n"
     ]
    }
   ],
   "source": [
    "print(re.findall('[A-Z]',s))"
   ]
  },
  {
   "cell_type": "code",
   "execution_count": 47,
   "id": "4a3b66e2",
   "metadata": {},
   "outputs": [
    {
     "name": "stdout",
     "output_type": "stream",
     "text": [
      "['The']\n"
     ]
    }
   ],
   "source": [
    "print(re.findall('^The',s)) # begins with ^"
   ]
  },
  {
   "cell_type": "code",
   "execution_count": 53,
   "id": "2c6d323a",
   "metadata": {},
   "outputs": [
    {
     "data": {
      "text/plain": [
       "['4']"
      ]
     },
     "execution_count": 53,
     "metadata": {},
     "output_type": "execute_result"
    }
   ],
   "source": [
    "re.findall('4$',s) # ends with $"
   ]
  },
  {
   "cell_type": "code",
   "execution_count": 68,
   "id": "f5c9f41c",
   "metadata": {},
   "outputs": [
    {
     "data": {
      "text/plain": [
       "['aabc', 'aaaabc', 'bc']"
      ]
     },
     "execution_count": 68,
     "metadata": {},
     "output_type": "execute_result"
    }
   ],
   "source": [
    "s = \"aabcaaaabcbbc\"\n",
    "re.findall('a*bc',s) # * is zero or more occurance precding * sybol"
   ]
  },
  {
   "cell_type": "code",
   "execution_count": 67,
   "id": "6e2d6a01",
   "metadata": {},
   "outputs": [
    {
     "data": {
      "text/plain": [
       "<re.Match object; span=(0, 3), match='aab'>"
      ]
     },
     "execution_count": 67,
     "metadata": {},
     "output_type": "execute_result"
    }
   ],
   "source": [
    "re.search('a*bc',s)"
   ]
  },
  {
   "cell_type": "code",
   "execution_count": 70,
   "id": "6d8df2ac",
   "metadata": {},
   "outputs": [
    {
     "data": {
      "text/plain": [
       "['aabc', 'aaaabc']"
      ]
     },
     "execution_count": 70,
     "metadata": {},
     "output_type": "execute_result"
    }
   ],
   "source": [
    "re.findall('a+bc',s) # one or more occurance of precding symbol"
   ]
  },
  {
   "cell_type": "code",
   "execution_count": 71,
   "id": "3062ec83",
   "metadata": {},
   "outputs": [
    {
     "data": {
      "text/plain": [
       "['aab', 'aab']"
      ]
     },
     "execution_count": 71,
     "metadata": {},
     "output_type": "execute_result"
    }
   ],
   "source": [
    "re.findall(\"a.b\",s) #string contains at least 2 characters"
   ]
  },
  {
   "cell_type": "code",
   "execution_count": 78,
   "id": "d6b30cfe",
   "metadata": {},
   "outputs": [
    {
     "data": {
      "text/plain": [
       "['ab', 'ab', 'b', 'b']"
      ]
     },
     "execution_count": 78,
     "metadata": {},
     "output_type": "execute_result"
    }
   ],
   "source": [
    "re.findall(\"a?b\",s) # precededing elements 0 or 1 time match"
   ]
  },
  {
   "cell_type": "code",
   "execution_count": 79,
   "id": "a4afb654",
   "metadata": {},
   "outputs": [
    {
     "data": {
      "text/plain": [
       "['a', 'a', 'b', 'a', 'a', 'a', 'a', 'b', 'b', 'b']"
      ]
     },
     "execution_count": 79,
     "metadata": {},
     "output_type": "execute_result"
    }
   ],
   "source": [
    "re.findall(\"a|b\",s) # before or after the sybmol"
   ]
  },
  {
   "cell_type": "code",
   "execution_count": 82,
   "id": "d69802db",
   "metadata": {},
   "outputs": [
    {
     "data": {
      "text/plain": [
       "['bb']"
      ]
     },
     "execution_count": 82,
     "metadata": {},
     "output_type": "execute_result"
    }
   ],
   "source": [
    "re.findall(\"b{2,3}\",s) # 2-3 time appers b"
   ]
  },
  {
   "cell_type": "code",
   "execution_count": 83,
   "id": "2ac4dd76",
   "metadata": {},
   "outputs": [],
   "source": [
    "#meta characters are done"
   ]
  },
  {
   "cell_type": "code",
   "execution_count": 84,
   "id": "96455dad",
   "metadata": {},
   "outputs": [],
   "source": [
    "#sepcial sequence begins"
   ]
  },
  {
   "cell_type": "code",
   "execution_count": 110,
   "id": "55fe2bc7",
   "metadata": {},
   "outputs": [],
   "source": [
    "s = \"This is my number 46788898 and* * . _ room no 14\""
   ]
  },
  {
   "cell_type": "code",
   "execution_count": 111,
   "id": "a01f666e",
   "metadata": {},
   "outputs": [
    {
     "data": {
      "text/plain": [
       "['46788898', '14']"
      ]
     },
     "execution_count": 111,
     "metadata": {},
     "output_type": "execute_result"
    }
   ],
   "source": [
    "re.findall(\"\\d+\",s) # identify the numbers (one or more)"
   ]
  },
  {
   "cell_type": "code",
   "execution_count": 112,
   "id": "40ef6de9",
   "metadata": {},
   "outputs": [],
   "source": [
    "pattern = re.compile('[A-Z]')"
   ]
  },
  {
   "cell_type": "code",
   "execution_count": 113,
   "id": "7fb28d84",
   "metadata": {},
   "outputs": [
    {
     "data": {
      "text/plain": [
       "['T']"
      ]
     },
     "execution_count": 113,
     "metadata": {},
     "output_type": "execute_result"
    }
   ],
   "source": [
    "pattern.findall(s)"
   ]
  },
  {
   "cell_type": "code",
   "execution_count": 114,
   "id": "3e201a6c",
   "metadata": {},
   "outputs": [
    {
     "data": {
      "text/plain": [
       "['4', '6', '7', '8', '8', '8', '9', '8', '1', '4']"
      ]
     },
     "execution_count": 114,
     "metadata": {},
     "output_type": "execute_result"
    }
   ],
   "source": [
    "re.compile(\"\\d\").findall(s) # single digits"
   ]
  },
  {
   "cell_type": "code",
   "execution_count": 115,
   "id": "902509a5",
   "metadata": {},
   "outputs": [
    {
     "data": {
      "text/plain": [
       "['46788898', '14']"
      ]
     },
     "execution_count": 115,
     "metadata": {},
     "output_type": "execute_result"
    }
   ],
   "source": [
    "re.compile(\"\\d+\").findall(s)"
   ]
  },
  {
   "cell_type": "code",
   "execution_count": 116,
   "id": "1cc9ebda",
   "metadata": {},
   "outputs": [
    {
     "name": "stdout",
     "output_type": "stream",
     "text": [
      "['T', 'h', 'i', 's', 'i', 's', 'm', 'y', 'n', 'u', 'm', 'b', 'e', 'r', '4', '6', '7', '8', '8', '8', '9', '8', 'a', 'n', 'd', '_', 'r', 'o', 'o', 'm', 'n', 'o', '1', '4']\n"
     ]
    }
   ],
   "source": [
    "print(re.compile(\"\\w\").findall(s)) # matches, _ & alphanumeric"
   ]
  },
  {
   "cell_type": "code",
   "execution_count": 117,
   "id": "17f927f7",
   "metadata": {},
   "outputs": [
    {
     "name": "stdout",
     "output_type": "stream",
     "text": [
      "['This', 'is', 'my', 'number', '46788898', 'and', '_', 'room', 'no', '14']\n"
     ]
    }
   ],
   "source": [
    "print(re.compile(\"\\w+\").findall(s))"
   ]
  },
  {
   "cell_type": "code",
   "execution_count": 120,
   "id": "bd89f5a3",
   "metadata": {},
   "outputs": [
    {
     "name": "stdout",
     "output_type": "stream",
     "text": [
      "[' ', ' ', ' ', ' ', ' ', '* * . ', ' ', ' ', ' ']\n"
     ]
    }
   ],
   "source": [
    "print(re.compile(\"\\W+\").findall(s)) # not alphanumeric"
   ]
  },
  {
   "cell_type": "code",
   "execution_count": 121,
   "id": "7f16e979",
   "metadata": {},
   "outputs": [
    {
     "name": "stdout",
     "output_type": "stream",
     "text": [
      "[' ', ' ', ' ', ' ', ' ', '*', ' ', '*', ' ', '.', ' ', ' ', ' ', ' ']\n"
     ]
    }
   ],
   "source": [
    "print(re.compile(\"\\W\").findall(s))"
   ]
  },
  {
   "cell_type": "code",
   "execution_count": 126,
   "id": "e256ba11",
   "metadata": {},
   "outputs": [
    {
     "data": {
      "text/plain": [
       "['On ', 'th Jan ', ', at ', ':', ' AM']"
      ]
     },
     "execution_count": 126,
     "metadata": {},
     "output_type": "execute_result"
    }
   ],
   "source": [
    "re.split('\\d+', 'On 12th Jan 2016, at 11:02 AM',flags = re.IGNORECASE) #split basedon numberf"
   ]
  },
  {
   "cell_type": "code",
   "execution_count": 130,
   "id": "bf8652b7",
   "metadata": {},
   "outputs": [
    {
     "data": {
      "text/plain": [
       "('around & world & ', 2)"
      ]
     },
     "execution_count": 130,
     "metadata": {},
     "output_type": "execute_result"
    }
   ],
   "source": [
    "re.subn(\"\\sAND\\s\",\" & \",\"around and world and \",count=2,flags=re.IGNORECASE)"
   ]
  },
  {
   "cell_type": "code",
   "execution_count": 131,
   "id": "189ff991",
   "metadata": {},
   "outputs": [
    {
     "data": {
      "text/plain": [
       "'around & world & '"
      ]
     },
     "execution_count": 131,
     "metadata": {},
     "output_type": "execute_result"
    }
   ],
   "source": [
    "re.sub(\"\\sAND\\s\",\" & \",\"around and world and \",count=2,flags=re.IGNORECASE)"
   ]
  },
  {
   "cell_type": "code",
   "execution_count": 140,
   "id": "719f89ab",
   "metadata": {},
   "outputs": [],
   "source": [
    "match = re.search(\"([a-zA-Z]+) (\\d+)\", \"as June 100 sf\")"
   ]
  },
  {
   "cell_type": "code",
   "execution_count": 141,
   "id": "d8fefada",
   "metadata": {},
   "outputs": [
    {
     "data": {
      "text/plain": [
       "<re.Match object; span=(3, 11), match='June 100'>"
      ]
     },
     "execution_count": 141,
     "metadata": {},
     "output_type": "execute_result"
    }
   ],
   "source": [
    "match"
   ]
  },
  {
   "cell_type": "code",
   "execution_count": 143,
   "id": "cf08da0e",
   "metadata": {},
   "outputs": [
    {
     "data": {
      "text/plain": [
       "('June', '100')"
      ]
     },
     "execution_count": 143,
     "metadata": {},
     "output_type": "execute_result"
    }
   ],
   "source": [
    "match.groups()"
   ]
  },
  {
   "cell_type": "code",
   "execution_count": 151,
   "id": "e42d7f9e",
   "metadata": {},
   "outputs": [
    {
     "data": {
      "text/plain": [
       "'June 100'"
      ]
     },
     "execution_count": 151,
     "metadata": {},
     "output_type": "execute_result"
    }
   ],
   "source": [
    "match.group(0)"
   ]
  },
  {
   "cell_type": "code",
   "execution_count": 152,
   "id": "7a27e6e1",
   "metadata": {},
   "outputs": [
    {
     "data": {
      "text/plain": [
       "'June'"
      ]
     },
     "execution_count": 152,
     "metadata": {},
     "output_type": "execute_result"
    }
   ],
   "source": [
    "match.group(1)"
   ]
  },
  {
   "cell_type": "code",
   "execution_count": 153,
   "id": "dd37b500",
   "metadata": {},
   "outputs": [
    {
     "data": {
      "text/plain": [
       "'100'"
      ]
     },
     "execution_count": 153,
     "metadata": {},
     "output_type": "execute_result"
    }
   ],
   "source": [
    "match.group(2)"
   ]
  },
  {
   "cell_type": "code",
   "execution_count": 157,
   "id": "a70b34c1",
   "metadata": {},
   "outputs": [
    {
     "data": {
      "text/plain": [
       "['he t', 'e  t']"
      ]
     },
     "execution_count": 157,
     "metadata": {},
     "output_type": "execute_result"
    }
   ],
   "source": [
    "re.findall(\"\\D{2} t\", \"The t me  t \")"
   ]
  },
  {
   "cell_type": "code",
   "execution_count": 159,
   "id": "a8d18a6c",
   "metadata": {},
   "outputs": [
    {
     "data": {
      "text/plain": [
       "3"
      ]
     },
     "execution_count": 159,
     "metadata": {},
     "output_type": "execute_result"
    }
   ],
   "source": [
    "match.start()"
   ]
  },
  {
   "cell_type": "code",
   "execution_count": 160,
   "id": "99dae133",
   "metadata": {},
   "outputs": [
    {
     "data": {
      "text/plain": [
       "11"
      ]
     },
     "execution_count": 160,
     "metadata": {},
     "output_type": "execute_result"
    }
   ],
   "source": [
    "match.end()"
   ]
  },
  {
   "cell_type": "code",
   "execution_count": 161,
   "id": "eec5c830",
   "metadata": {},
   "outputs": [
    {
     "data": {
      "text/plain": [
       "(3, 11)"
      ]
     },
     "execution_count": 161,
     "metadata": {},
     "output_type": "execute_result"
    }
   ],
   "source": [
    "match.span()"
   ]
  },
  {
   "cell_type": "code",
   "execution_count": 162,
   "id": "e8885a3e",
   "metadata": {},
   "outputs": [
    {
     "data": {
      "text/plain": [
       "re.compile(r'([a-zA-Z]+) (\\d+)', re.UNICODE)"
      ]
     },
     "execution_count": 162,
     "metadata": {},
     "output_type": "execute_result"
    }
   ],
   "source": [
    "match.re"
   ]
  },
  {
   "cell_type": "code",
   "execution_count": 163,
   "id": "5e0c5828",
   "metadata": {},
   "outputs": [
    {
     "data": {
      "text/plain": [
       "'as June 100 sf'"
      ]
     },
     "execution_count": 163,
     "metadata": {},
     "output_type": "execute_result"
    }
   ],
   "source": [
    "match.string"
   ]
  },
  {
   "cell_type": "code",
   "execution_count": null,
   "id": "35158a40",
   "metadata": {},
   "outputs": [],
   "source": []
  }
 ],
 "metadata": {
  "kernelspec": {
   "display_name": "Python 3 (ipykernel)",
   "language": "python",
   "name": "python3"
  },
  "language_info": {
   "codemirror_mode": {
    "name": "ipython",
    "version": 3
   },
   "file_extension": ".py",
   "mimetype": "text/x-python",
   "name": "python",
   "nbconvert_exporter": "python",
   "pygments_lexer": "ipython3",
   "version": "3.11.5"
  }
 },
 "nbformat": 4,
 "nbformat_minor": 5
}
