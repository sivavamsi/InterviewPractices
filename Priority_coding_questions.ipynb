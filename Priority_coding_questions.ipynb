{
 "cells": [
  {
   "cell_type": "markdown",
   "id": "871c9bef-dcc5-4fc4-95cf-01e72fd3c792",
   "metadata": {},
   "source": [
    "# maxRepeating"
   ]
  },
  {
   "cell_type": "code",
   "execution_count": 3,
   "id": "a3769ae9-2fcd-4359-b90c-7e746d251b32",
   "metadata": {},
   "outputs": [
    {
     "data": {
      "text/plain": [
       "2"
      ]
     },
     "execution_count": 3,
     "metadata": {},
     "output_type": "execute_result"
    }
   ],
   "source": [
    "def maxRepeating(sequence,word):\n",
    "    if word not in sequence:\n",
    "        return 0\n",
    "    k=0\n",
    "    while word*(k+1) in sequence:\n",
    "        k=k+1\n",
    "    return k\n",
    "sequence = \"ababcababab\"\n",
    "word = \"ba\"\n",
    "maxRepeating(sequence,word)    "
   ]
  },
  {
   "cell_type": "code",
   "execution_count": 5,
   "id": "524424de-7415-491a-9ff5-8ed082d9a855",
   "metadata": {},
   "outputs": [],
   "source": [
    "# Test 0\n",
    "sequence = \"ababc\"\n",
    "word = \"ab\"\n",
    "assert maxRepeating(sequence, word) == 2"
   ]
  },
  {
   "cell_type": "code",
   "execution_count": 9,
   "id": "2e69f59e-a621-4feb-916f-02ee411268bd",
   "metadata": {},
   "outputs": [],
   "source": [
    "# Test 1\n",
    "sequence = \"ababc\"\n",
    "word = \"ba\"\n",
    "assert maxRepeating(sequence, word) == 1"
   ]
  },
  {
   "cell_type": "code",
   "execution_count": 11,
   "id": "3d8e0a8a-5f87-4ab6-bde8-fc5dbcc9624a",
   "metadata": {},
   "outputs": [],
   "source": [
    "# Test 2\n",
    "sequence = \"ababc\"\n",
    "word = \"ac\"\n",
    "assert maxRepeating(sequence, word) == 0"
   ]
  },
  {
   "cell_type": "code",
   "execution_count": 13,
   "id": "8e708d08-32ec-48fc-8093-d264b12d40c1",
   "metadata": {},
   "outputs": [],
   "source": [
    "# Test 3\n",
    "sequence = \"abbabbabba\"\n",
    "word = \"abba\"\n",
    "assert maxRepeating(sequence, word) == 1"
   ]
  },
  {
   "cell_type": "code",
   "execution_count": 15,
   "id": "58e27e24-e836-447a-bdd6-8491538747be",
   "metadata": {},
   "outputs": [],
   "source": [
    "# Test 4\n",
    "sequence = \"abcdabab\"\n",
    "word = \"ab\"\n",
    "assert maxRepeating(sequence, word) == 2"
   ]
  },
  {
   "cell_type": "markdown",
   "id": "cd7804ab-2005-4e77-9f3a-777d17c26045",
   "metadata": {},
   "source": [
    "# Sum of Pairs"
   ]
  },
  {
   "cell_type": "code",
   "execution_count": 36,
   "id": "2cc34fd6-159a-477c-b50f-cbbf73080f6a",
   "metadata": {},
   "outputs": [],
   "source": [
    "nl = [1,3,4,2,5,6]\n",
    "target_sum = 6"
   ]
  },
  {
   "cell_type": "code",
   "execution_count": 38,
   "id": "eb1e4ab7-5691-47c3-bbc0-1dc0c3638293",
   "metadata": {},
   "outputs": [],
   "source": [
    "seen = set()\n",
    "results = []\n",
    "for i in nl:\n",
    "    compliment = target_sum-i\n",
    "    if compliment in seen:\n",
    "        results.append([compliment,i])\n",
    "    seen.add(i)"
   ]
  },
  {
   "cell_type": "code",
   "execution_count": 74,
   "id": "a4a21705-5975-449d-af49-2e878004bbb4",
   "metadata": {},
   "outputs": [
    {
     "data": {
      "text/plain": [
       "[[4, 2], [1, 5]]"
      ]
     },
     "execution_count": 74,
     "metadata": {},
     "output_type": "execute_result"
    }
   ],
   "source": [
    "results"
   ]
  },
  {
   "cell_type": "code",
   "execution_count": 76,
   "id": "6e4f4712-219f-4a9a-bed7-de32dc323b24",
   "metadata": {},
   "outputs": [
    {
     "name": "stdout",
     "output_type": "stream",
     "text": [
      "[(1, 5), (2, 4)]\n"
     ]
    }
   ],
   "source": [
    "def pair_cal(n_l,target_sum):\n",
    "    results = []\n",
    "    cmp_list = n_l.copy()\n",
    "    for i in n_l:\n",
    "        tmp = target_sum-i\n",
    "        if (tmp in cmp_list) and (tmp!=i) :\n",
    "            #print(tmp,i)\n",
    "            results.append((i,tmp))\n",
    "            cmp_list.remove(i)\n",
    "            cmp_list.remove(tmp)\n",
    "    return results\n",
    "\n",
    "n_l = [1,2,3,4,5,6]\n",
    "target_sum = 6\n",
    "res = pair_cal(n_l,target_sum)\n",
    "print(res)"
   ]
  },
  {
   "cell_type": "markdown",
   "id": "b8c61147-6b58-48cc-933f-0ff4db56b6a8",
   "metadata": {
    "jp-MarkdownHeadingCollapsed": true
   },
   "source": [
    "# custom array"
   ]
  },
  {
   "cell_type": "code",
   "execution_count": 43,
   "id": "b3f0c13a-fbff-4bfb-8ff6-9483f8a20601",
   "metadata": {},
   "outputs": [
    {
     "name": "stdout",
     "output_type": "stream",
     "text": [
      "[0, 0, 0, 0, 0, 0, 0, 0, 1, 1, 1, 1, 1, 1, 1]\n"
     ]
    }
   ],
   "source": [
    "def custom(array):\n",
    "  left, right = [],[]\n",
    "  for idx in array:\n",
    "    if idx==1:\n",
    "      right.append(idx)\n",
    "    else:\n",
    "      left.append(idx)\n",
    "  return left+right\n",
    "\n",
    "array = [1,1,0,1,0,0,1,0,1,0,0,0,1,1,0]\n",
    "result = custom(array)\n",
    "print(result)"
   ]
  },
  {
   "cell_type": "markdown",
   "id": "ce2b4059-633c-496d-ba58-7762403c41f6",
   "metadata": {},
   "source": [
    "# remove duplicates"
   ]
  },
  {
   "cell_type": "code",
   "execution_count": 46,
   "id": "873fe165-1853-492b-8b82-c68fb05e78d9",
   "metadata": {},
   "outputs": [
    {
     "data": {
      "text/plain": [
       "[0, 5, 7, 8, 4]"
      ]
     },
     "execution_count": 46,
     "metadata": {},
     "output_type": "execute_result"
    }
   ],
   "source": [
    "input_1 =  [1,1,1,4,6,8,3,4,7,3,1,2,5,2,6,2,6,8,6,9,0,4,7,9]\n",
    "def remove_dupli_dic(input):\n",
    "    unique_list = {}\n",
    "    for i in input_1:\n",
    "        if i not in unique_list:\n",
    "            unique_list.update({i:True})\n",
    "    unique_list = list(unique_list)[::-2]\n",
    "    return unique_list\n",
    "\n",
    "remove_dupli_dic(input)   "
   ]
  },
  {
   "cell_type": "code",
   "execution_count": 48,
   "id": "2b94c502-e249-4e8f-91f8-0bcd460c2020",
   "metadata": {},
   "outputs": [
    {
     "name": "stdout",
     "output_type": "stream",
     "text": [
      "[0, 5, 7, 8, 4]\n"
     ]
    }
   ],
   "source": [
    "def remove_dupli_dic(input_1):\n",
    "    unique_list = list(dict.fromkeys(input_1))  # Preserve order while removing duplicates\n",
    "    return unique_list[::-2]  # Reverse and skip every second element\n",
    "\n",
    "# Example Usage\n",
    "input_1 = [1,1,1,4,6,8,3,4,7,3,1,2,5,2,6,2,6,8,6,9,0,4,7,9]\n",
    "result = remove_dupli_dic(input_1)\n",
    "print(result)"
   ]
  },
  {
   "cell_type": "code",
   "execution_count": 52,
   "id": "325d3e7e-cfdd-4dc7-a824-40cf1a5e376e",
   "metadata": {},
   "outputs": [
    {
     "data": {
      "text/plain": [
       "{1: None, 2: None, 3: None}"
      ]
     },
     "execution_count": 52,
     "metadata": {},
     "output_type": "execute_result"
    }
   ],
   "source": [
    "dict.fromkeys([1,2,3,1])"
   ]
  },
  {
   "cell_type": "markdown",
   "id": "161d16f1-8786-413a-aada-39ac88b266e9",
   "metadata": {},
   "source": [
    "# string count"
   ]
  },
  {
   "cell_type": "code",
   "execution_count": 57,
   "id": "eed1a587-9692-456f-83b3-2b07cccc7976",
   "metadata": {},
   "outputs": [
    {
     "data": {
      "text/plain": [
       "{'a': 3, 'b': 4, 'n': 3, 'e': 3}"
      ]
     },
     "execution_count": 57,
     "metadata": {},
     "output_type": "execute_result"
    }
   ],
   "source": [
    "def string_count(string1):\n",
    "  dict_val = {}\n",
    "  temp = 1\n",
    "  count = 0\n",
    "  for i in string1:\n",
    "    if i==temp:\n",
    "      count= count+1\n",
    "    else:\n",
    "      #print(i)\n",
    "      dict_val.update({temp:count})\n",
    "      temp = i\n",
    "      count = 1\n",
    "  dict_val.update({temp:count})\n",
    "  dict_val.pop(1)\n",
    "  return dict_val\n",
    "\n",
    "string1  = \"aaabbbbnnneee\"\n",
    "string_count(string1)"
   ]
  },
  {
   "cell_type": "code",
   "execution_count": 59,
   "id": "f0e8caa8-7fdf-4a9e-9ae7-7c46684287cd",
   "metadata": {},
   "outputs": [
    {
     "name": "stdout",
     "output_type": "stream",
     "text": [
      "{'a': 3, 'b': 4, 'n': 3, 'e': 3}\n"
     ]
    }
   ],
   "source": [
    "from collections import Counter\n",
    "\n",
    "def string_count(string1):\n",
    "    return dict(Counter(string1))  # Efficiently count occurrences of each character\n",
    "\n",
    "# Example Usage\n",
    "string1 = \"aaabbbbnnneee\"\n",
    "result = string_count(string1)\n",
    "print(result)"
   ]
  },
  {
   "cell_type": "markdown",
   "id": "9da48133-545f-477c-a578-9540605772bf",
   "metadata": {},
   "source": [
    "# rotation"
   ]
  },
  {
   "cell_type": "code",
   "execution_count": 62,
   "id": "5b344c04-9446-444b-9c1b-8c3702b26f15",
   "metadata": {},
   "outputs": [
    {
     "name": "stdout",
     "output_type": "stream",
     "text": [
      "After 1st rotation: [7, 1, 2, 3, 4, 5, 6]\n",
      "After 2st rotation: [6, 7, 1, 2, 3, 4, 5]\n",
      "After 3st rotation: [5, 6, 7, 1, 2, 3, 4]\n"
     ]
    },
    {
     "data": {
      "text/plain": [
       "[5, 6, 7, 1, 2, 3, 4]"
      ]
     },
     "execution_count": 62,
     "metadata": {},
     "output_type": "execute_result"
    }
   ],
   "source": [
    "def rotate(input_list,k):\n",
    "  for i in range(1,k+1):\n",
    "    last = input_list.pop()\n",
    "    input_list.insert(0,last)\n",
    "    print(f\"After {i}st rotation: {input_list}\")\n",
    "  return input_list\n",
    "\n",
    "\n",
    "def rotate_list(input_list,k):\n",
    "  if k>len(input_list):\n",
    "    k = k%len(input_list)\n",
    "    final_list = rotate(input_list,k)\n",
    "  else:\n",
    "    final_list = rotate(input_list,k)\n",
    "  return final_list\n",
    "\n",
    "input_list = [1,2,3,4,5,6,7]\n",
    "k= 3\n",
    "rotate_list(input_list,k)"
   ]
  },
  {
   "cell_type": "code",
   "execution_count": 64,
   "id": "eb3f715d-0317-41af-b8a3-8b6d3c7c6232",
   "metadata": {},
   "outputs": [
    {
     "name": "stdout",
     "output_type": "stream",
     "text": [
      "[5, 6, 7, 1, 2, 3, 4]\n"
     ]
    }
   ],
   "source": [
    "def rotate_list(input_list, k):\n",
    "    n = len(input_list)\n",
    "    k %= n  # Handle cases where k > n\n",
    "    return input_list[-k:] + input_list[:-k]  # Efficient slicing for rotation\n",
    "\n",
    "# Example Usage\n",
    "input_list = [1, 2, 3, 4, 5, 6, 7]\n",
    "k = 3\n",
    "result = rotate_list(input_list, k)\n",
    "print(result)  # Output: [5, 6, 7, 1, 2, 3, 4]"
   ]
  },
  {
   "cell_type": "markdown",
   "id": "2f43fb46-1148-4938-ae0c-f68f7f533dcd",
   "metadata": {},
   "source": [
    "# validparenthise"
   ]
  },
  {
   "cell_type": "code",
   "execution_count": 67,
   "id": "96000ca3-339f-44ad-9fe6-394a18c8add8",
   "metadata": {},
   "outputs": [
    {
     "data": {
      "text/plain": [
       "True"
      ]
     },
     "execution_count": 67,
     "metadata": {},
     "output_type": "execute_result"
    }
   ],
   "source": [
    "def validparenthise(s):\n",
    "    rule = {\"{\":\"}\",\n",
    "        \"[\":\"]\",\n",
    "        \"(\":\")\"}\n",
    "\n",
    "    stack = []\n",
    "    for i in s:\n",
    "      if i in rule:\n",
    "        stack.append(i)\n",
    "        \n",
    "      elif stack and rule[stack[-1]]==i:\n",
    "         stack.pop()\n",
    "      else:\n",
    "        return False\n",
    "    return len(stack)==0\n",
    "validparenthise(\"()[]{}\" )"
   ]
  },
  {
   "cell_type": "markdown",
   "id": "016238c9-d503-4cd6-9ec2-3db35a70062a",
   "metadata": {},
   "source": [
    "# fequency consective"
   ]
  },
  {
   "cell_type": "code",
   "execution_count": 70,
   "id": "7b5b31e5-41a7-4044-bc5b-300e076fda83",
   "metadata": {},
   "outputs": [
    {
     "data": {
      "text/plain": [
       "'3a 1b 1a 1b 2c 4a 1C'"
      ]
     },
     "execution_count": 70,
     "metadata": {},
     "output_type": "execute_result"
    }
   ],
   "source": [
    "def frequency(Input):\n",
    "    cur = Input[0]\n",
    "    count=1\n",
    "    stack = []\n",
    "    for i in range(1,len(Input)):\n",
    "        if Input[i] == cur:\n",
    "            count=count+1   \n",
    "        else:\n",
    "            stack.append(str(count)+cur)\n",
    "            count = 1\n",
    "            cur = Input[i]\n",
    "    \n",
    "    stack.append(str(count)+cur)\n",
    "    out = \" \".join(stack)\n",
    "    return out\n",
    "\n",
    "Input = 'aaababccaaaaC'\n",
    "frequency(Input)"
   ]
  },
  {
   "cell_type": "code",
   "execution_count": 72,
   "id": "e26d91dd-dfcc-41e0-a9b9-fe9e8e9a346d",
   "metadata": {},
   "outputs": [
    {
     "name": "stdout",
     "output_type": "stream",
     "text": [
      "3a 1b 1a 1b 2c 4a 1C\n"
     ]
    }
   ],
   "source": [
    "def frequency(Input):\n",
    "    from itertools import groupby  # Efficient grouping\n",
    "\n",
    "    return \" \".join(f\"{len(list(group))}{char}\" for char, group in groupby(Input))\n",
    "\n",
    "# Example Usage\n",
    "Input = 'aaababccaaaaC'\n",
    "result = frequency(Input)\n",
    "print(result)  # Output: '3a 1b 1a 1b 2c 4a 1C'\n"
   ]
  },
  {
   "cell_type": "code",
   "execution_count": null,
   "id": "062bc830-0a17-4f02-b663-f243b66874b5",
   "metadata": {},
   "outputs": [],
   "source": []
  }
 ],
 "metadata": {
  "kernelspec": {
   "display_name": "Python 3 (ipykernel)",
   "language": "python",
   "name": "python3"
  },
  "language_info": {
   "codemirror_mode": {
    "name": "ipython",
    "version": 3
   },
   "file_extension": ".py",
   "mimetype": "text/x-python",
   "name": "python",
   "nbconvert_exporter": "python",
   "pygments_lexer": "ipython3",
   "version": "3.11.7"
  }
 },
 "nbformat": 4,
 "nbformat_minor": 5
}
