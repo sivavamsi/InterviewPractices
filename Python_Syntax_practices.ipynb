{
 "cells": [
  {
   "cell_type": "markdown",
   "id": "013c38bc",
   "metadata": {},
   "source": [
    "# Class"
   ]
  },
  {
   "cell_type": "code",
   "execution_count": 1,
   "id": "76e806da",
   "metadata": {},
   "outputs": [],
   "source": [
    "class Shape(object): #object is the root of all the classes\n",
    "    def __init__(self,l,b):\n",
    "        self.l = l\n",
    "        self.b = b\n",
    "    def perimeter(self):\n",
    "        return self.l*self.b\n"
   ]
  },
  {
   "cell_type": "code",
   "execution_count": 2,
   "id": "3da9de89",
   "metadata": {},
   "outputs": [
    {
     "name": "stdout",
     "output_type": "stream",
     "text": [
      "1\n",
      "3\n"
     ]
    }
   ],
   "source": [
    "obj = Shape(1,3) # values in init functions are intialized at class name called.\n",
    "print(obj.l)\n",
    "print(obj.b)"
   ]
  },
  {
   "cell_type": "code",
   "execution_count": 3,
   "id": "1e684858",
   "metadata": {},
   "outputs": [
    {
     "data": {
      "text/plain": [
       "3"
      ]
     },
     "execution_count": 3,
     "metadata": {},
     "output_type": "execute_result"
    }
   ],
   "source": [
    "obj.perimeter()"
   ]
  },
  {
   "cell_type": "code",
   "execution_count": 4,
   "id": "9561b77b",
   "metadata": {},
   "outputs": [],
   "source": [
    "class Shape(object):\n",
    "    def __init__(self,l,b):\n",
    "        self.l = l\n",
    "        self.b = b\n",
    "    def perimeter(self):\n",
    "        return self.l*self.b\n",
    "    def call_func(self,x):\n",
    "        p = self.perimeter() # function call inside the class\n",
    "        return p,x"
   ]
  },
  {
   "cell_type": "code",
   "execution_count": 5,
   "id": "62fb3236",
   "metadata": {},
   "outputs": [
    {
     "name": "stdout",
     "output_type": "stream",
     "text": [
      "(3, 4)\n"
     ]
    }
   ],
   "source": [
    "obj = Shape(1,3)\n",
    "print(obj.call_func(4))"
   ]
  },
  {
   "cell_type": "code",
   "execution_count": 51,
   "id": "b7a2f837",
   "metadata": {},
   "outputs": [
    {
     "name": "stdout",
     "output_type": "stream",
     "text": [
      "func called\n"
     ]
    }
   ],
   "source": [
    "class An():\n",
    "    def __init__(self,a): # constructer\n",
    "        self.a=a\n",
    "        \n",
    "    def __str__(self):\n",
    "        return f\"MyClass instance with attribute: {self.a}\"\n",
    "    #def __del__(self): # destructor\n",
    "    #    print(\"Destroyed\")\n",
    "    def func(self):\n",
    "        print(\"func called\")\n",
    "        \n",
    "obj = An(\"hello\")\n",
    "obj.func()"
   ]
  },
  {
   "cell_type": "code",
   "execution_count": 61,
   "id": "21036371",
   "metadata": {},
   "outputs": [
    {
     "name": "stdout",
     "output_type": "stream",
     "text": [
      "Destroyed\n",
      "MyClass instance with attribute: hello\n",
      "func called\n"
     ]
    }
   ],
   "source": [
    "class An():\n",
    "    def __init__(self, a):  # constructor\n",
    "        self.a = a\n",
    "\n",
    "    def __str__(self):\n",
    "        return f\"MyClass instance with attribute: {self.a}\"\n",
    "\n",
    "    def __del__(self):  # destructor\n",
    "        print(\"Destroyed\")\n",
    "\n",
    "    def func(self):\n",
    "        print(\"func called\")\n",
    "\n",
    "obj = An(\"hello\")\n",
    "\n",
    "print(obj) # need print function for __str__\n",
    "obj.func()"
   ]
  },
  {
   "cell_type": "code",
   "execution_count": null,
   "id": "1b9dde8d",
   "metadata": {},
   "outputs": [],
   "source": []
  },
  {
   "cell_type": "code",
   "execution_count": null,
   "id": "c3550786",
   "metadata": {},
   "outputs": [],
   "source": []
  },
  {
   "cell_type": "markdown",
   "id": "a96b8a31",
   "metadata": {},
   "source": [
    "# Inheritance"
   ]
  },
  {
   "cell_type": "code",
   "execution_count": 9,
   "id": "847126ef",
   "metadata": {},
   "outputs": [
    {
     "name": "stdout",
     "output_type": "stream",
     "text": [
      "10-vamsi from company\n",
      "('datascientist', 10, 'vamsi')from the employee\n"
     ]
    }
   ],
   "source": [
    "#Single level inheritance\n",
    "class Company(object):\n",
    "    def __init__(self,idx,name):\n",
    "        self.idx = idx\n",
    "        self.name = name\n",
    "    def display_company(self):\n",
    "        print(f\"{self.idx}-{self.name} from company\")\n",
    "        \n",
    "class Employee(Company):\n",
    "    def __init__(self,idx,name, post):\n",
    "        self.post=post\n",
    "        super().__init__(idx,name) #invoke the parent objects is mandatory\n",
    "    def display_employee(self):\n",
    "        print(f\"{self.post,self.idx,self.name}from the employee\")\n",
    "        \n",
    "        \n",
    "obj_emp = Employee(10,\"vamsi\",\"datascientist\")\n",
    "obj_emp.display_company()\n",
    "obj_emp.display_employee()"
   ]
  },
  {
   "cell_type": "code",
   "execution_count": 16,
   "id": "bc5b06b5",
   "metadata": {},
   "outputs": [
    {
     "name": "stdout",
     "output_type": "stream",
     "text": [
      "1\n",
      "2\n",
      "3\n"
     ]
    }
   ],
   "source": [
    "#multiple inheritance\n",
    "class Base1(object):\n",
    "    def __init__(self,b1):\n",
    "        self.b1 = b1\n",
    "class Base2(object):\n",
    "    def __init__(self,b2):\n",
    "        self.b2 = b2\n",
    "class child(Base1,Base2):\n",
    "    def __init__(self,b1,b2,c):\n",
    "        Base1.__init__(self,b1)\n",
    "        Base2.__init__(self,b2)\n",
    "        self.c=c\n",
    "child_obj = child(1,2,3)\n",
    "print(child_obj.b1)\n",
    "print(child_obj.b2)\n",
    "print(child_obj.c)"
   ]
  },
  {
   "cell_type": "code",
   "execution_count": 7,
   "id": "c3fad382",
   "metadata": {},
   "outputs": [
    {
     "name": "stdout",
     "output_type": "stream",
     "text": [
      "2\n",
      "1\n",
      "3\n"
     ]
    }
   ],
   "source": [
    "#multilevel inheritance\n",
    "class Parent(object):\n",
    "    def __init__(self,p):\n",
    "        self.p = p\n",
    "        \n",
    "class Child(Parent):\n",
    "    def __init__(self,c,p):\n",
    "        self.c = c\n",
    "        Parent.__init__(self,p)\n",
    "        \n",
    "class Grandchild(Child):\n",
    "    def __init__(self,c,p,g):\n",
    "        self.g = g\n",
    "        Child.__init__(self,c,p)\n",
    "        \n",
    "        \n",
    "g_ob = Grandchild(1,2,3)\n",
    "print(g_ob.p)\n",
    "print(g_ob.c)\n",
    "print(g_ob.g)\n",
    "        \n",
    "    "
   ]
  },
  {
   "cell_type": "markdown",
   "id": "f4572481",
   "metadata": {},
   "source": [
    "# Encaspulation"
   ]
  },
  {
   "cell_type": "code",
   "execution_count": 15,
   "id": "7060f6f6",
   "metadata": {},
   "outputs": [
    {
     "name": "stdout",
     "output_type": "stream",
     "text": [
      "10\n"
     ]
    }
   ],
   "source": [
    "class Base(object):\n",
    "    def __init__(self,a,b,c): # constructor of base class\n",
    "        self._a = a #protected\n",
    "        self.__b = b #private\n",
    "        self.c  = c #public\n",
    "class Child(Base):\n",
    "    def __init__(self,a,b,c):\n",
    "        Base.__init__(self,a,b,c)\n",
    "        self._a = 10\n",
    "        print(self._a)\n",
    "    \n",
    "obj = Child(1,2,3)      "
   ]
  },
  {
   "cell_type": "code",
   "execution_count": 16,
   "id": "d64d2e0f",
   "metadata": {},
   "outputs": [
    {
     "data": {
      "text/plain": [
       "3"
      ]
     },
     "execution_count": 16,
     "metadata": {},
     "output_type": "execute_result"
    }
   ],
   "source": [
    "obj.c"
   ]
  },
  {
   "cell_type": "code",
   "execution_count": 17,
   "id": "d35d48a9",
   "metadata": {},
   "outputs": [
    {
     "ename": "AttributeError",
     "evalue": "'Child' object has no attribute 'a'",
     "output_type": "error",
     "traceback": [
      "\u001b[0;31m---------------------------------------------------------------------------\u001b[0m",
      "\u001b[0;31mAttributeError\u001b[0m                            Traceback (most recent call last)",
      "Cell \u001b[0;32mIn[17], line 1\u001b[0m\n\u001b[0;32m----> 1\u001b[0m obj\u001b[38;5;241m.\u001b[39ma\n",
      "\u001b[0;31mAttributeError\u001b[0m: 'Child' object has no attribute 'a'"
     ]
    }
   ],
   "source": [
    "obj.a # can't access outside but access in other class via inheritance (protected)"
   ]
  },
  {
   "cell_type": "code",
   "execution_count": 18,
   "id": "23cd4aeb",
   "metadata": {},
   "outputs": [
    {
     "ename": "AttributeError",
     "evalue": "'Child' object has no attribute 'b'",
     "output_type": "error",
     "traceback": [
      "\u001b[0;31m---------------------------------------------------------------------------\u001b[0m",
      "\u001b[0;31mAttributeError\u001b[0m                            Traceback (most recent call last)",
      "Cell \u001b[0;32mIn[18], line 1\u001b[0m\n\u001b[0;32m----> 1\u001b[0m obj\u001b[38;5;241m.\u001b[39mb\n",
      "\u001b[0;31mAttributeError\u001b[0m: 'Child' object has no attribute 'b'"
     ]
    }
   ],
   "source": [
    "obj.b # cant acess outside & other class both - (private)"
   ]
  },
  {
   "cell_type": "markdown",
   "id": "02c4b479",
   "metadata": {},
   "source": [
    "# Polymorphism"
   ]
  },
  {
   "cell_type": "code",
   "execution_count": 22,
   "id": "94817aff",
   "metadata": {},
   "outputs": [
    {
     "name": "stdout",
     "output_type": "stream",
     "text": [
      "Base-1\n",
      "None\n",
      "child-(1, 2)\n",
      "None\n"
     ]
    }
   ],
   "source": [
    "class Base(object):\n",
    "    def __init__(self,a):\n",
    "        self.a = a\n",
    "    def show(self):\n",
    "        print(f\"Base-{self.a}\")\n",
    "class Child(Base):\n",
    "    def __init__(self,a,b):\n",
    "        super().__init__(a)\n",
    "        self.b = b\n",
    "    def show(self):\n",
    "        print(f\"child-{self.a,self.b}\")\n",
    "print(Base(1).show())\n",
    "print(Child(1,2).show())"
   ]
  },
  {
   "cell_type": "markdown",
   "id": "c435fb27",
   "metadata": {},
   "source": [
    "# Others"
   ]
  },
  {
   "cell_type": "code",
   "execution_count": 66,
   "id": "df4bd5ba",
   "metadata": {},
   "outputs": [
    {
     "name": "stdout",
     "output_type": "stream",
     "text": [
      "expect\n",
      "ran\n"
     ]
    }
   ],
   "source": [
    "try:\n",
    "    for i in range(3):\n",
    "        print(i/0)\n",
    "        \n",
    "except:\n",
    "    print(\"expect\")\n",
    "    \n",
    "finally:\n",
    "    print(\"ran\")"
   ]
  },
  {
   "cell_type": "code",
   "execution_count": 69,
   "id": "e8ef2801",
   "metadata": {},
   "outputs": [
    {
     "name": "stdout",
     "output_type": "stream",
     "text": [
      "1\n",
      "2\n",
      "Nothing\n"
     ]
    }
   ],
   "source": [
    "for i in [1,2]:\n",
    "    print(i)\n",
    "else:\n",
    "    print(\"Nothing\")"
   ]
  },
  {
   "cell_type": "code",
   "execution_count": 70,
   "id": "b8461d04",
   "metadata": {},
   "outputs": [
    {
     "name": "stdout",
     "output_type": "stream",
     "text": [
      "Nothing\n"
     ]
    }
   ],
   "source": [
    "for i in []:\n",
    "    print(i)\n",
    "else:\n",
    "    print(\"Nothing\")"
   ]
  },
  {
   "cell_type": "code",
   "execution_count": 71,
   "id": "d867b92d",
   "metadata": {},
   "outputs": [
    {
     "name": "stdout",
     "output_type": "stream",
     "text": [
      "0\n",
      "1\n",
      "2\n",
      "ran\n"
     ]
    }
   ],
   "source": [
    "i=0\n",
    "while i<3:\n",
    "    print(i)\n",
    "    i=i+1\n",
    "else:\n",
    "    print(\"ran\")"
   ]
  },
  {
   "cell_type": "markdown",
   "id": "5240b191",
   "metadata": {},
   "source": [
    "# Generators"
   ]
  },
  {
   "cell_type": "code",
   "execution_count": 72,
   "id": "48a18463",
   "metadata": {},
   "outputs": [],
   "source": [
    "def func():\n",
    "    yield 1\n",
    "    yield 2\n",
    "    yield 2\n",
    "    yield 3\n",
    "    "
   ]
  },
  {
   "cell_type": "code",
   "execution_count": 73,
   "id": "109b11db",
   "metadata": {},
   "outputs": [
    {
     "name": "stdout",
     "output_type": "stream",
     "text": [
      "1\n",
      "2\n",
      "2\n",
      "3\n"
     ]
    }
   ],
   "source": [
    "for i in func():\n",
    "    print(i)"
   ]
  },
  {
   "cell_type": "code",
   "execution_count": 75,
   "id": "68c9645e",
   "metadata": {},
   "outputs": [
    {
     "data": {
      "text/plain": [
       "<generator object func at 0x105e4a140>"
      ]
     },
     "execution_count": 75,
     "metadata": {},
     "output_type": "execute_result"
    }
   ],
   "source": [
    "c = func()\n",
    "c"
   ]
  },
  {
   "cell_type": "code",
   "execution_count": 78,
   "id": "ae8229ed",
   "metadata": {},
   "outputs": [
    {
     "data": {
      "text/plain": [
       "1"
      ]
     },
     "execution_count": 78,
     "metadata": {},
     "output_type": "execute_result"
    }
   ],
   "source": [
    "next(c)"
   ]
  },
  {
   "cell_type": "code",
   "execution_count": 79,
   "id": "d5c7439a",
   "metadata": {},
   "outputs": [
    {
     "data": {
      "text/plain": [
       "2"
      ]
     },
     "execution_count": 79,
     "metadata": {},
     "output_type": "execute_result"
    }
   ],
   "source": [
    "next(c)"
   ]
  },
  {
   "cell_type": "code",
   "execution_count": 80,
   "id": "71210cbd",
   "metadata": {},
   "outputs": [
    {
     "data": {
      "text/plain": [
       "2"
      ]
     },
     "execution_count": 80,
     "metadata": {},
     "output_type": "execute_result"
    }
   ],
   "source": [
    "next(c)"
   ]
  },
  {
   "cell_type": "code",
   "execution_count": 81,
   "id": "6473053c",
   "metadata": {},
   "outputs": [
    {
     "data": {
      "text/plain": [
       "3"
      ]
     },
     "execution_count": 81,
     "metadata": {},
     "output_type": "execute_result"
    }
   ],
   "source": [
    "next(c)"
   ]
  },
  {
   "cell_type": "code",
   "execution_count": 82,
   "id": "53c385b3",
   "metadata": {},
   "outputs": [
    {
     "ename": "StopIteration",
     "evalue": "",
     "output_type": "error",
     "traceback": [
      "\u001b[0;31m---------------------------------------------------------------------------\u001b[0m",
      "\u001b[0;31mStopIteration\u001b[0m                             Traceback (most recent call last)",
      "Cell \u001b[0;32mIn[82], line 1\u001b[0m\n\u001b[0;32m----> 1\u001b[0m \u001b[38;5;28mnext\u001b[39m(c)\n",
      "\u001b[0;31mStopIteration\u001b[0m: "
     ]
    }
   ],
   "source": [
    "next(c)"
   ]
  },
  {
   "cell_type": "markdown",
   "id": "29e7f936",
   "metadata": {},
   "source": [
    "# Packing & Unpacking"
   ]
  },
  {
   "cell_type": "code",
   "execution_count": 85,
   "id": "7f6b15f0",
   "metadata": {},
   "outputs": [
    {
     "name": "stdout",
     "output_type": "stream",
     "text": [
      "1 2 3\n"
     ]
    }
   ],
   "source": [
    "def nPrint(a,b,c):\n",
    "    print(a,b,c)\n",
    "    \n",
    "args = [1,2,3]\n",
    "\n",
    "nPrint(*args)  # list is converted to parameters"
   ]
  },
  {
   "cell_type": "markdown",
   "id": "2f8c6ecd",
   "metadata": {},
   "source": [
    "# *args & **KWargs"
   ]
  },
  {
   "cell_type": "code",
   "execution_count": 86,
   "id": "7054df59",
   "metadata": {},
   "outputs": [],
   "source": [
    "def funcargs(*lm):\n",
    "    for i in lm:\n",
    "        print(i)\n",
    "        \n",
    "        "
   ]
  },
  {
   "cell_type": "code",
   "execution_count": 87,
   "id": "7f058222",
   "metadata": {},
   "outputs": [
    {
     "name": "stdout",
     "output_type": "stream",
     "text": [
      "a\n",
      "1\n",
      "w\n"
     ]
    }
   ],
   "source": [
    "funcargs('a',1,'w') # define infinite parameters"
   ]
  },
  {
   "cell_type": "code",
   "execution_count": 89,
   "id": "aae1edbe",
   "metadata": {},
   "outputs": [
    {
     "name": "stdout",
     "output_type": "stream",
     "text": [
      "a\n",
      "1\n",
      "w\n"
     ]
    }
   ],
   "source": [
    "funcargs(*['a',1,'w']) # it supports wildcard with list, tuple,set for args"
   ]
  },
  {
   "cell_type": "code",
   "execution_count": 90,
   "id": "15caee46",
   "metadata": {},
   "outputs": [
    {
     "name": "stdout",
     "output_type": "stream",
     "text": [
      "1\n",
      "a\n",
      "w\n"
     ]
    }
   ],
   "source": [
    "funcargs(*{'a',1,'w'})"
   ]
  },
  {
   "cell_type": "code",
   "execution_count": 92,
   "id": "7d03d53f",
   "metadata": {},
   "outputs": [
    {
     "name": "stdout",
     "output_type": "stream",
     "text": [
      "a\n",
      "1\n",
      "w\n"
     ]
    }
   ],
   "source": [
    "funcargs(*('a',1,'w'))"
   ]
  },
  {
   "cell_type": "code",
   "execution_count": 95,
   "id": "2ea8ede5",
   "metadata": {},
   "outputs": [
    {
     "name": "stdout",
     "output_type": "stream",
     "text": [
      "1 h 2\n"
     ]
    }
   ],
   "source": [
    "def func(a,b,j):\n",
    "    print(a,b,j)\n",
    "    \n",
    "func(**{'a':1,'b':'h',\"j\":2}) # keys are parameters name that should available only on fuction."
   ]
  },
  {
   "cell_type": "markdown",
   "id": "8ad5f9d8",
   "metadata": {},
   "source": [
    "#   __iter__() & __next__()"
   ]
  },
  {
   "cell_type": "code",
   "execution_count": 96,
   "id": "77db5ae5",
   "metadata": {},
   "outputs": [],
   "source": [
    "l = [1,2,3,6]"
   ]
  },
  {
   "cell_type": "code",
   "execution_count": 100,
   "id": "32636929",
   "metadata": {},
   "outputs": [],
   "source": [
    "l = l.__iter__()"
   ]
  },
  {
   "cell_type": "code",
   "execution_count": 102,
   "id": "406bc1c1",
   "metadata": {},
   "outputs": [
    {
     "data": {
      "text/plain": [
       "1"
      ]
     },
     "execution_count": 102,
     "metadata": {},
     "output_type": "execute_result"
    }
   ],
   "source": [
    "l.__next__()"
   ]
  },
  {
   "cell_type": "code",
   "execution_count": 103,
   "id": "2b5ee9af",
   "metadata": {},
   "outputs": [
    {
     "data": {
      "text/plain": [
       "2"
      ]
     },
     "execution_count": 103,
     "metadata": {},
     "output_type": "execute_result"
    }
   ],
   "source": [
    "l.__next__()"
   ]
  },
  {
   "cell_type": "code",
   "execution_count": 104,
   "id": "18c737d6",
   "metadata": {},
   "outputs": [
    {
     "data": {
      "text/plain": [
       "3"
      ]
     },
     "execution_count": 104,
     "metadata": {},
     "output_type": "execute_result"
    }
   ],
   "source": [
    "l.__next__()"
   ]
  },
  {
   "cell_type": "markdown",
   "id": "e67bf0ed",
   "metadata": {},
   "source": [
    "# Decorators"
   ]
  },
  {
   "cell_type": "code",
   "execution_count": 110,
   "id": "630c5054",
   "metadata": {},
   "outputs": [
    {
     "name": "stdout",
     "output_type": "stream",
     "text": [
      "before func excutation\n",
      "enter inner function\n",
      "main calc\n"
     ]
    },
    {
     "data": {
      "text/plain": [
       "9"
      ]
     },
     "execution_count": 110,
     "metadata": {},
     "output_type": "execute_result"
    }
   ],
   "source": [
    "def decorator(func):\n",
    "    print(\"before func excutation\")\n",
    "    def inner(*args,**kwgs):\n",
    "        print(\"enter inner function\")\n",
    "        val = func(*args, **kwgs)\n",
    "        return val\n",
    "    return inner\n",
    "\n",
    "\n",
    "def math(n):\n",
    "    print(\"main calc\")\n",
    "    return n*n\n",
    "\n",
    "\n",
    "func_variable = decorator(math)\n",
    "#print(func_variable)\n",
    "func_variable(3)"
   ]
  },
  {
   "cell_type": "code",
   "execution_count": 112,
   "id": "2420c6b9",
   "metadata": {},
   "outputs": [
    {
     "name": "stdout",
     "output_type": "stream",
     "text": [
      "<function decorator.<locals>.inner at 0x105eb22a0>\n"
     ]
    }
   ],
   "source": [
    "print(func_variable)"
   ]
  },
  {
   "cell_type": "code",
   "execution_count": 117,
   "id": "c4599829",
   "metadata": {},
   "outputs": [
    {
     "name": "stdout",
     "output_type": "stream",
     "text": [
      "before func excutation\n",
      "enter inner function\n",
      "main calc\n",
      "9\n"
     ]
    }
   ],
   "source": [
    "@decorator\n",
    "def math(n):\n",
    "    print(\"main calc\")\n",
    "    return n*n\n",
    "\n",
    "p = math(3)\n",
    "print(p)"
   ]
  },
  {
   "cell_type": "markdown",
   "id": "9f3de628",
   "metadata": {},
   "source": [
    "# lambda"
   ]
  },
  {
   "cell_type": "code",
   "execution_count": 118,
   "id": "98e2f8c2",
   "metadata": {},
   "outputs": [
    {
     "data": {
      "text/plain": [
       "15"
      ]
     },
     "execution_count": 118,
     "metadata": {},
     "output_type": "execute_result"
    }
   ],
   "source": [
    "def multiple(x,y):\n",
    "    return x*y\n",
    "val = multiple(3,5)\n",
    "val"
   ]
  },
  {
   "cell_type": "code",
   "execution_count": 120,
   "id": "65fa4351",
   "metadata": {},
   "outputs": [
    {
     "data": {
      "text/plain": [
       "15"
      ]
     },
     "execution_count": 120,
     "metadata": {},
     "output_type": "execute_result"
    }
   ],
   "source": [
    "multiple = lambda x,y :x*y\n",
    "val = multiple(3,5)\n",
    "val"
   ]
  },
  {
   "cell_type": "markdown",
   "id": "dbf1ee05",
   "metadata": {},
   "source": [
    "# map"
   ]
  },
  {
   "cell_type": "code",
   "execution_count": 126,
   "id": "14a8889e",
   "metadata": {},
   "outputs": [
    {
     "data": {
      "text/plain": [
       "[5, 18]"
      ]
     },
     "execution_count": 126,
     "metadata": {},
     "output_type": "execute_result"
    }
   ],
   "source": [
    "l = [[1,3],[5,6]]# [x,x],[y,y]\n",
    "list(map(lambda x,y :x*y,*l))\n",
    "    "
   ]
  },
  {
   "cell_type": "markdown",
   "id": "304e9e10",
   "metadata": {},
   "source": [
    "# filter"
   ]
  },
  {
   "cell_type": "code",
   "execution_count": 130,
   "id": "a8912e92",
   "metadata": {},
   "outputs": [
    {
     "data": {
      "text/plain": [
       "[0, 2, 4, 6, 8]"
      ]
     },
     "execution_count": 130,
     "metadata": {},
     "output_type": "execute_result"
    }
   ],
   "source": [
    "list(filter(lambda x:x%2==0,[*range(10)]))"
   ]
  },
  {
   "cell_type": "markdown",
   "id": "7bbdda34",
   "metadata": {},
   "source": [
    "# reduce"
   ]
  },
  {
   "cell_type": "code",
   "execution_count": 131,
   "id": "a1ccc5b4",
   "metadata": {},
   "outputs": [],
   "source": [
    "from functools import reduce"
   ]
  },
  {
   "cell_type": "code",
   "execution_count": 132,
   "id": "8c22d823",
   "metadata": {},
   "outputs": [
    {
     "data": {
      "text/plain": [
       "28"
      ]
     },
     "execution_count": 132,
     "metadata": {},
     "output_type": "execute_result"
    }
   ],
   "source": [
    "reduce(lambda x,y:x+y,[1,2,3,4,5,6,7])"
   ]
  },
  {
   "cell_type": "code",
   "execution_count": 133,
   "id": "dd066be3",
   "metadata": {},
   "outputs": [
    {
     "data": {
      "text/plain": [
       "5040"
      ]
     },
     "execution_count": 133,
     "metadata": {},
     "output_type": "execute_result"
    }
   ],
   "source": [
    "reduce(lambda x,y:x*y,[1,2,3,4,5,6,7])"
   ]
  },
  {
   "cell_type": "code",
   "execution_count": null,
   "id": "58024704",
   "metadata": {},
   "outputs": [],
   "source": []
  },
  {
   "cell_type": "markdown",
   "id": "d5d4609b",
   "metadata": {},
   "source": [
    "# dict"
   ]
  },
  {
   "cell_type": "code",
   "execution_count": 180,
   "id": "f72b1188",
   "metadata": {},
   "outputs": [],
   "source": [
    "d.update({1:4})"
   ]
  },
  {
   "cell_type": "code",
   "execution_count": 181,
   "id": "d9033920",
   "metadata": {},
   "outputs": [
    {
     "data": {
      "text/plain": [
       "{1: 4}"
      ]
     },
     "execution_count": 181,
     "metadata": {},
     "output_type": "execute_result"
    }
   ],
   "source": [
    "d"
   ]
  },
  {
   "cell_type": "code",
   "execution_count": 138,
   "id": "c2b31463",
   "metadata": {},
   "outputs": [],
   "source": [
    "d = {1:2,\"e\":3,\"f\":4}"
   ]
  },
  {
   "cell_type": "code",
   "execution_count": 141,
   "id": "477ac6ef",
   "metadata": {},
   "outputs": [
    {
     "data": {
      "text/plain": [
       "dict_values([2, 3, 4])"
      ]
     },
     "execution_count": 141,
     "metadata": {},
     "output_type": "execute_result"
    }
   ],
   "source": [
    "d.values()"
   ]
  },
  {
   "cell_type": "code",
   "execution_count": 142,
   "id": "dfc8523b",
   "metadata": {},
   "outputs": [
    {
     "data": {
      "text/plain": [
       "dict_keys([1, 'e', 'f'])"
      ]
     },
     "execution_count": 142,
     "metadata": {},
     "output_type": "execute_result"
    }
   ],
   "source": [
    "d.keys()"
   ]
  },
  {
   "cell_type": "code",
   "execution_count": 144,
   "id": "5d0590a6",
   "metadata": {},
   "outputs": [
    {
     "data": {
      "text/plain": [
       "4"
      ]
     },
     "execution_count": 144,
     "metadata": {},
     "output_type": "execute_result"
    }
   ],
   "source": [
    "d.pop(\"f\")"
   ]
  },
  {
   "cell_type": "code",
   "execution_count": 145,
   "id": "a9599ac3",
   "metadata": {},
   "outputs": [
    {
     "data": {
      "text/plain": [
       "{1: 2, 'e': 3}"
      ]
     },
     "execution_count": 145,
     "metadata": {},
     "output_type": "execute_result"
    }
   ],
   "source": [
    "d"
   ]
  },
  {
   "cell_type": "code",
   "execution_count": 146,
   "id": "80809599",
   "metadata": {},
   "outputs": [
    {
     "data": {
      "text/plain": [
       "dict_items([(1, 2), ('e', 3)])"
      ]
     },
     "execution_count": 146,
     "metadata": {},
     "output_type": "execute_result"
    }
   ],
   "source": [
    "d.items()"
   ]
  },
  {
   "cell_type": "code",
   "execution_count": 147,
   "id": "deec7f3e",
   "metadata": {},
   "outputs": [
    {
     "data": {
      "text/plain": [
       "('e', 3)"
      ]
     },
     "execution_count": 147,
     "metadata": {},
     "output_type": "execute_result"
    }
   ],
   "source": [
    "d.popitem() # lifo"
   ]
  },
  {
   "cell_type": "code",
   "execution_count": 149,
   "id": "9ff61390",
   "metadata": {},
   "outputs": [],
   "source": [
    "d.clear()"
   ]
  },
  {
   "cell_type": "code",
   "execution_count": 150,
   "id": "c2a5553d",
   "metadata": {},
   "outputs": [
    {
     "data": {
      "text/plain": [
       "{}"
      ]
     },
     "execution_count": 150,
     "metadata": {},
     "output_type": "execute_result"
    }
   ],
   "source": [
    "d"
   ]
  },
  {
   "cell_type": "code",
   "execution_count": 177,
   "id": "552af636",
   "metadata": {},
   "outputs": [
    {
     "data": {
      "text/plain": [
       "{}"
      ]
     },
     "execution_count": 177,
     "metadata": {},
     "output_type": "execute_result"
    }
   ],
   "source": [
    "d.copy()"
   ]
  },
  {
   "cell_type": "markdown",
   "id": "23025e78",
   "metadata": {},
   "source": [
    "# list"
   ]
  },
  {
   "cell_type": "code",
   "execution_count": 152,
   "id": "235063a9",
   "metadata": {},
   "outputs": [],
   "source": [
    "l = [1,2,3,4,5,6]"
   ]
  },
  {
   "cell_type": "code",
   "execution_count": 153,
   "id": "f516778b",
   "metadata": {},
   "outputs": [],
   "source": [
    "l.append(3)"
   ]
  },
  {
   "cell_type": "code",
   "execution_count": 154,
   "id": "56cbae93",
   "metadata": {},
   "outputs": [
    {
     "data": {
      "text/plain": [
       "[1, 2, 3, 4, 5, 6, 3]"
      ]
     },
     "execution_count": 154,
     "metadata": {},
     "output_type": "execute_result"
    }
   ],
   "source": [
    "l"
   ]
  },
  {
   "cell_type": "code",
   "execution_count": 156,
   "id": "0fc5e5d8",
   "metadata": {},
   "outputs": [],
   "source": [
    "l.extend([1,23])"
   ]
  },
  {
   "cell_type": "code",
   "execution_count": 157,
   "id": "7446338b",
   "metadata": {},
   "outputs": [
    {
     "data": {
      "text/plain": [
       "[1, 2, 3, 4, 5, 6, 3, 1, 23]"
      ]
     },
     "execution_count": 157,
     "metadata": {},
     "output_type": "execute_result"
    }
   ],
   "source": [
    "l"
   ]
  },
  {
   "cell_type": "code",
   "execution_count": 159,
   "id": "9af4ca5e",
   "metadata": {},
   "outputs": [
    {
     "data": {
      "text/plain": [
       "2"
      ]
     },
     "execution_count": 159,
     "metadata": {},
     "output_type": "execute_result"
    }
   ],
   "source": [
    "l.index(3) # first occurance"
   ]
  },
  {
   "cell_type": "code",
   "execution_count": 165,
   "id": "7b24e98e",
   "metadata": {},
   "outputs": [],
   "source": [
    "l.insert(3,200)"
   ]
  },
  {
   "cell_type": "code",
   "execution_count": 166,
   "id": "059704ae",
   "metadata": {},
   "outputs": [
    {
     "data": {
      "text/plain": [
       "[1, 2, 2, 200, 3, 4, 5, 6, 3, 1, 23, 2]"
      ]
     },
     "execution_count": 166,
     "metadata": {},
     "output_type": "execute_result"
    }
   ],
   "source": [
    "l"
   ]
  },
  {
   "cell_type": "code",
   "execution_count": 167,
   "id": "704197ca",
   "metadata": {},
   "outputs": [],
   "source": [
    "l.sort()"
   ]
  },
  {
   "cell_type": "code",
   "execution_count": 168,
   "id": "464ae7ce",
   "metadata": {},
   "outputs": [
    {
     "data": {
      "text/plain": [
       "[1, 1, 2, 2, 2, 3, 3, 4, 5, 6, 23, 200]"
      ]
     },
     "execution_count": 168,
     "metadata": {},
     "output_type": "execute_result"
    }
   ],
   "source": [
    "l"
   ]
  },
  {
   "cell_type": "code",
   "execution_count": 169,
   "id": "a6362c6e",
   "metadata": {},
   "outputs": [],
   "source": [
    "l.reverse()"
   ]
  },
  {
   "cell_type": "code",
   "execution_count": 170,
   "id": "1bbcfff9",
   "metadata": {},
   "outputs": [
    {
     "data": {
      "text/plain": [
       "[200, 23, 6, 5, 4, 3, 3, 2, 2, 2, 1, 1]"
      ]
     },
     "execution_count": 170,
     "metadata": {},
     "output_type": "execute_result"
    }
   ],
   "source": [
    "l"
   ]
  },
  {
   "cell_type": "code",
   "execution_count": 171,
   "id": "793c21fa",
   "metadata": {},
   "outputs": [
    {
     "data": {
      "text/plain": [
       "1"
      ]
     },
     "execution_count": 171,
     "metadata": {},
     "output_type": "execute_result"
    }
   ],
   "source": [
    "l.pop()"
   ]
  },
  {
   "cell_type": "code",
   "execution_count": 172,
   "id": "34269b76",
   "metadata": {},
   "outputs": [
    {
     "data": {
      "text/plain": [
       "[200, 23, 6, 5, 4, 3, 3, 2, 2, 2, 1]"
      ]
     },
     "execution_count": 172,
     "metadata": {},
     "output_type": "execute_result"
    }
   ],
   "source": [
    "l"
   ]
  },
  {
   "cell_type": "code",
   "execution_count": 173,
   "id": "70030e04",
   "metadata": {},
   "outputs": [],
   "source": [
    "l.remove(200)"
   ]
  },
  {
   "cell_type": "code",
   "execution_count": 174,
   "id": "492910b6",
   "metadata": {},
   "outputs": [
    {
     "data": {
      "text/plain": [
       "[23, 6, 5, 4, 3, 3, 2, 2, 2, 1]"
      ]
     },
     "execution_count": 174,
     "metadata": {},
     "output_type": "execute_result"
    }
   ],
   "source": [
    "l"
   ]
  },
  {
   "cell_type": "code",
   "execution_count": 175,
   "id": "0fb498db",
   "metadata": {},
   "outputs": [],
   "source": [
    "l.clear()"
   ]
  },
  {
   "cell_type": "code",
   "execution_count": 176,
   "id": "5cd35a40",
   "metadata": {},
   "outputs": [
    {
     "data": {
      "text/plain": [
       "[]"
      ]
     },
     "execution_count": 176,
     "metadata": {},
     "output_type": "execute_result"
    }
   ],
   "source": [
    "l.copy()"
   ]
  },
  {
   "cell_type": "markdown",
   "id": "2688474f",
   "metadata": {},
   "source": [
    "# set()"
   ]
  },
  {
   "cell_type": "code",
   "execution_count": 196,
   "id": "a4e175de",
   "metadata": {},
   "outputs": [],
   "source": [
    "s = {1,3,4,3,4}"
   ]
  },
  {
   "cell_type": "code",
   "execution_count": 197,
   "id": "b2cc8b2c",
   "metadata": {},
   "outputs": [
    {
     "data": {
      "text/plain": [
       "{1, 3, 4}"
      ]
     },
     "execution_count": 197,
     "metadata": {},
     "output_type": "execute_result"
    }
   ],
   "source": [
    "s"
   ]
  },
  {
   "cell_type": "code",
   "execution_count": 198,
   "id": "7c0e70ca",
   "metadata": {},
   "outputs": [],
   "source": [
    "s.update({10})"
   ]
  },
  {
   "cell_type": "code",
   "execution_count": 199,
   "id": "d0b215be",
   "metadata": {},
   "outputs": [
    {
     "data": {
      "text/plain": [
       "{1, 3, 4, 10}"
      ]
     },
     "execution_count": 199,
     "metadata": {},
     "output_type": "execute_result"
    }
   ],
   "source": [
    "s"
   ]
  },
  {
   "cell_type": "code",
   "execution_count": 200,
   "id": "3d46eeab",
   "metadata": {},
   "outputs": [],
   "source": [
    "s1 = {1,2,4,100,200,400}"
   ]
  },
  {
   "cell_type": "code",
   "execution_count": 202,
   "id": "dc743fe1",
   "metadata": {},
   "outputs": [
    {
     "data": {
      "text/plain": [
       "{2, 100, 200, 400}"
      ]
     },
     "execution_count": 202,
     "metadata": {},
     "output_type": "execute_result"
    }
   ],
   "source": [
    "s1 - s # left/right join"
   ]
  },
  {
   "cell_type": "code",
   "execution_count": 204,
   "id": "41fc370b",
   "metadata": {},
   "outputs": [
    {
     "data": {
      "text/plain": [
       "{1, 2, 3, 4, 10, 100, 200, 400}"
      ]
     },
     "execution_count": 204,
     "metadata": {},
     "output_type": "execute_result"
    }
   ],
   "source": [
    "s1.union(s) # union"
   ]
  },
  {
   "cell_type": "code",
   "execution_count": 205,
   "id": "a619b6e0",
   "metadata": {},
   "outputs": [
    {
     "data": {
      "text/plain": [
       "{1, 2, 4, 100, 200, 400}"
      ]
     },
     "execution_count": 205,
     "metadata": {},
     "output_type": "execute_result"
    }
   ],
   "source": [
    "s1"
   ]
  },
  {
   "cell_type": "code",
   "execution_count": 206,
   "id": "b509cdfb",
   "metadata": {},
   "outputs": [
    {
     "data": {
      "text/plain": [
       "{1, 3, 4, 10}"
      ]
     },
     "execution_count": 206,
     "metadata": {},
     "output_type": "execute_result"
    }
   ],
   "source": [
    "s"
   ]
  },
  {
   "cell_type": "code",
   "execution_count": 209,
   "id": "f3bedc08",
   "metadata": {},
   "outputs": [
    {
     "data": {
      "text/plain": [
       "{1, 4}"
      ]
     },
     "execution_count": 209,
     "metadata": {},
     "output_type": "execute_result"
    }
   ],
   "source": [
    "s1 & s # inner join"
   ]
  },
  {
   "cell_type": "code",
   "execution_count": 210,
   "id": "8bc05e71",
   "metadata": {},
   "outputs": [
    {
     "data": {
      "text/plain": [
       "False"
      ]
     },
     "execution_count": 210,
     "metadata": {},
     "output_type": "execute_result"
    }
   ],
   "source": [
    "s.issuperset(s1)"
   ]
  },
  {
   "cell_type": "code",
   "execution_count": 211,
   "id": "a34ac4f5",
   "metadata": {},
   "outputs": [
    {
     "data": {
      "text/plain": [
       "False"
      ]
     },
     "execution_count": 211,
     "metadata": {},
     "output_type": "execute_result"
    }
   ],
   "source": [
    "s.issubset(s1)"
   ]
  },
  {
   "cell_type": "code",
   "execution_count": 214,
   "id": "1ee5c5d5",
   "metadata": {},
   "outputs": [
    {
     "data": {
      "text/plain": [
       "{2, 3, 10, 100, 200, 400}"
      ]
     },
     "execution_count": 214,
     "metadata": {},
     "output_type": "execute_result"
    }
   ],
   "source": [
    "l =s1-s\n",
    "r = s-s1\n",
    "l.union(r) # outer join"
   ]
  },
  {
   "cell_type": "markdown",
   "id": "8fc7481a",
   "metadata": {},
   "source": [
    "# str"
   ]
  },
  {
   "cell_type": "code",
   "execution_count": 219,
   "id": "c5dcf5a0",
   "metadata": {},
   "outputs": [],
   "source": [
    "s = \" str-ing * \""
   ]
  },
  {
   "cell_type": "code",
   "execution_count": 220,
   "id": "1e754b65",
   "metadata": {},
   "outputs": [
    {
     "data": {
      "text/plain": [
       "' str-ing * '"
      ]
     },
     "execution_count": 220,
     "metadata": {},
     "output_type": "execute_result"
    }
   ],
   "source": [
    "s"
   ]
  },
  {
   "cell_type": "code",
   "execution_count": 221,
   "id": "78db32f2",
   "metadata": {},
   "outputs": [
    {
     "data": {
      "text/plain": [
       "[' str', 'ing * ']"
      ]
     },
     "execution_count": 221,
     "metadata": {},
     "output_type": "execute_result"
    }
   ],
   "source": [
    "s.split(\"-\")"
   ]
  },
  {
   "cell_type": "code",
   "execution_count": 222,
   "id": "bb074ddc",
   "metadata": {},
   "outputs": [
    {
     "data": {
      "text/plain": [
       "[' str-ing * ']"
      ]
     },
     "execution_count": 222,
     "metadata": {},
     "output_type": "execute_result"
    }
   ],
   "source": [
    "s.split(\"**\")"
   ]
  },
  {
   "cell_type": "code",
   "execution_count": 224,
   "id": "ba734d71",
   "metadata": {},
   "outputs": [
    {
     "data": {
      "text/plain": [
       "'str-ing *'"
      ]
     },
     "execution_count": 224,
     "metadata": {},
     "output_type": "execute_result"
    }
   ],
   "source": [
    "s.strip()"
   ]
  },
  {
   "cell_type": "code",
   "execution_count": 228,
   "id": "553cc549",
   "metadata": {},
   "outputs": [],
   "source": [
    "s = s.lstrip().capitalize()"
   ]
  },
  {
   "cell_type": "code",
   "execution_count": 230,
   "id": "edc4f423",
   "metadata": {},
   "outputs": [
    {
     "data": {
      "text/plain": [
       "True"
      ]
     },
     "execution_count": 230,
     "metadata": {},
     "output_type": "execute_result"
    }
   ],
   "source": [
    "s.startswith(\"S\")"
   ]
  },
  {
   "cell_type": "code",
   "execution_count": 231,
   "id": "250a8df4",
   "metadata": {},
   "outputs": [],
   "source": [
    "s = s.strip()"
   ]
  },
  {
   "cell_type": "code",
   "execution_count": 232,
   "id": "f36c78de",
   "metadata": {},
   "outputs": [
    {
     "data": {
      "text/plain": [
       "'Str-ing *'"
      ]
     },
     "execution_count": 232,
     "metadata": {},
     "output_type": "execute_result"
    }
   ],
   "source": [
    "s"
   ]
  },
  {
   "cell_type": "code",
   "execution_count": 233,
   "id": "98d87661",
   "metadata": {},
   "outputs": [
    {
     "data": {
      "text/plain": [
       "True"
      ]
     },
     "execution_count": 233,
     "metadata": {},
     "output_type": "execute_result"
    }
   ],
   "source": [
    "s.endswith(\"*\")"
   ]
  },
  {
   "cell_type": "code",
   "execution_count": 234,
   "id": "2ede0998",
   "metadata": {},
   "outputs": [
    {
     "data": {
      "text/plain": [
       "False"
      ]
     },
     "execution_count": 234,
     "metadata": {},
     "output_type": "execute_result"
    }
   ],
   "source": [
    "s.isdigit()"
   ]
  },
  {
   "cell_type": "code",
   "execution_count": 235,
   "id": "1368937e",
   "metadata": {},
   "outputs": [
    {
     "data": {
      "text/plain": [
       "False"
      ]
     },
     "execution_count": 235,
     "metadata": {},
     "output_type": "execute_result"
    }
   ],
   "source": [
    "s.isalpha()"
   ]
  },
  {
   "cell_type": "code",
   "execution_count": null,
   "id": "5161edfb",
   "metadata": {},
   "outputs": [],
   "source": []
  },
  {
   "cell_type": "code",
   "execution_count": 239,
   "id": "aad57f1d",
   "metadata": {},
   "outputs": [
    {
     "data": {
      "text/plain": [
       "False"
      ]
     },
     "execution_count": 239,
     "metadata": {},
     "output_type": "execute_result"
    }
   ],
   "source": [
    "s.isalnum()"
   ]
  },
  {
   "cell_type": "code",
   "execution_count": 240,
   "id": "e8dc911e",
   "metadata": {},
   "outputs": [
    {
     "data": {
      "text/plain": [
       "0"
      ]
     },
     "execution_count": 240,
     "metadata": {},
     "output_type": "execute_result"
    }
   ],
   "source": [
    "s.find(s)"
   ]
  },
  {
   "cell_type": "code",
   "execution_count": 244,
   "id": "18a37222",
   "metadata": {},
   "outputs": [
    {
     "data": {
      "text/plain": [
       "'* gni-rtS'"
      ]
     },
     "execution_count": 244,
     "metadata": {},
     "output_type": "execute_result"
    }
   ],
   "source": [
    "s[::-1]"
   ]
  },
  {
   "cell_type": "code",
   "execution_count": 243,
   "id": "046b0b76",
   "metadata": {},
   "outputs": [
    {
     "data": {
      "text/plain": [
       "'*'"
      ]
     },
     "execution_count": 243,
     "metadata": {},
     "output_type": "execute_result"
    }
   ],
   "source": [
    "s[-1]"
   ]
  },
  {
   "cell_type": "code",
   "execution_count": 245,
   "id": "7340c605",
   "metadata": {},
   "outputs": [
    {
     "data": {
      "text/plain": [
       "False"
      ]
     },
     "execution_count": 245,
     "metadata": {},
     "output_type": "execute_result"
    }
   ],
   "source": [
    "s.isdecimal()"
   ]
  },
  {
   "cell_type": "markdown",
   "id": "07efcd30",
   "metadata": {},
   "source": [
    "# Zip"
   ]
  },
  {
   "cell_type": "code",
   "execution_count": 247,
   "id": "85d83b99",
   "metadata": {},
   "outputs": [
    {
     "data": {
      "text/plain": [
       "{'vamsi': 23, 'sai': 24}"
      ]
     },
     "execution_count": 247,
     "metadata": {},
     "output_type": "execute_result"
    }
   ],
   "source": [
    "name = [\"vamsi\",'sai']\n",
    "age = [23,24]\n",
    "\n",
    "dict(zip(name,age))"
   ]
  },
  {
   "cell_type": "markdown",
   "id": "7b9d0865",
   "metadata": {},
   "source": [
    "# Characters"
   ]
  },
  {
   "cell_type": "code",
   "execution_count": 248,
   "id": "71b35d5e",
   "metadata": {},
   "outputs": [
    {
     "data": {
      "text/plain": [
       "'\\x17'"
      ]
     },
     "execution_count": 248,
     "metadata": {},
     "output_type": "execute_result"
    }
   ],
   "source": [
    "chr(23)"
   ]
  },
  {
   "cell_type": "code",
   "execution_count": 250,
   "id": "86181bb4",
   "metadata": {},
   "outputs": [
    {
     "data": {
      "text/plain": [
       "'A'"
      ]
     },
     "execution_count": 250,
     "metadata": {},
     "output_type": "execute_result"
    }
   ],
   "source": [
    "chr(65)"
   ]
  },
  {
   "cell_type": "code",
   "execution_count": 253,
   "id": "4fcc18c1",
   "metadata": {},
   "outputs": [
    {
     "data": {
      "text/plain": [
       "65"
      ]
     },
     "execution_count": 253,
     "metadata": {},
     "output_type": "execute_result"
    }
   ],
   "source": [
    "ord('A')"
   ]
  },
  {
   "cell_type": "code",
   "execution_count": null,
   "id": "d6cb76b6",
   "metadata": {},
   "outputs": [],
   "source": []
  }
 ],
 "metadata": {
  "kernelspec": {
   "display_name": "Python 3 (ipykernel)",
   "language": "python",
   "name": "python3"
  },
  "language_info": {
   "codemirror_mode": {
    "name": "ipython",
    "version": 3
   },
   "file_extension": ".py",
   "mimetype": "text/x-python",
   "name": "python",
   "nbconvert_exporter": "python",
   "pygments_lexer": "ipython3",
   "version": "3.11.5"
  }
 },
 "nbformat": 4,
 "nbformat_minor": 5
}
